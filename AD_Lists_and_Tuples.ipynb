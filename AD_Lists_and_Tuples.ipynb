{
  "nbformat": 4,
  "nbformat_minor": 0,
  "metadata": {
    "colab": {
      "provenance": [],
      "collapsed_sections": [],
      "include_colab_link": true
    },
    "kernelspec": {
      "name": "python3",
      "display_name": "Python 3"
    },
    "language_info": {
      "name": "python"
    }
  },
  "cells": [
    {
      "cell_type": "markdown",
      "metadata": {
        "id": "view-in-github",
        "colab_type": "text"
      },
      "source": [
        "<a href=\"https://colab.research.google.com/github/ar1emon/LEARNPYTHON/blob/main/AD_Lists_and_Tuples.ipynb\" target=\"_parent\"><img src=\"https://colab.research.google.com/assets/colab-badge.svg\" alt=\"Open In Colab\"/></a>"
      ]
    },
    {
      "cell_type": "markdown",
      "metadata": {
        "id": "Z-M-RCWATK71"
      },
      "source": [
        "# Lists and tuples\n",
        "\n",
        "Often we need to store a number of single items of data together so that they can be processed together. This might be because all the data refers to one person (e.g. name, age, gender, etc) OR it might be because we have a set of data (e.g. all the items that should be displayed in a drop down list, such as all the years from this year back to 100 years ago so that someone can select their year of birth)\n",
        "\n",
        "Python has a range of data structures available including:\n",
        "*   lists  \n",
        "*   tuples  \n",
        "*   dictionaries  \n",
        "*   sets\n",
        "\n",
        "This worksheet looks at lists and tuples.\n",
        "\n",
        "## List\n",
        "A list is a set of related, individual data objects, that are indexed and can be processed as a whole, as subsets or as individual items.  Lists are stored, essentially, as contiguous items in memory so that access can be as quick as possible.  However, they are mutable (they can be changed after they are created and stored) and so those mechanisms need to include extra functionality to deal with changing list sizes.\n",
        "\n",
        "## Tuple\n",
        "Essentially the same as a list but it is immutable.  Once it has been created it can't be changed.  It is stored in memory as contiguous items, with the size required being fixed right from the start.  This makes it faster to access.\n",
        "\n",
        "The code below will create two lists and a tuple.\n",
        "*   the first list contains 1000 random numbers between 1 and 100\n",
        "*   the second list is of random length (up to 5000) and each item is one of the 9 characteristics that are protected under the Equality Act in the UK.\n",
        "*   the tuple contains the 9 protected characteristics\n",
        "\n",
        "Before you start the exercises, run the code below.  It will generate the lists and tuple so that you can use them in the exercises.  If you need to recreate the lists again (because you have changed them and need to work on the originals, just run this cell again).\n",
        "\n",
        "***Note:***  *a list variable contains a reference to the start of the list in memory, rather than storing the list itself.  This means that if you assign the list to another variable (to make a copy), it will only copy across the reference.  If you change the copy, you change the original list.*\n",
        "\n",
        "*If you need to make a copy of the list you will need to use a loop to create a new list and copy all items across.*"
      ]
    },
    {
      "cell_type": "code",
      "metadata": {
        "id": "BDRckXeQXFMT"
      },
      "source": [
        "from random import randint, choice\n",
        "\n",
        "def get_num_list():\n",
        "  num_list = [randint(1,100) for n in range(1000)]\n",
        "  return num_list\n",
        "\n",
        "def get_protected_characteristics():\n",
        "  characteristics_tuple = ('age','disability','gender reassignment','marriage and civil partnership','pregnancy and maternity','race','religion or belief','sex','sexual orientation')\n",
        "  return characteristics_tuple\n",
        "\n",
        "def get_protected_characteristic_list(protected_characteristics):\n",
        "  char_list = [choice(protected_characteristics) for ch in range(randint(1,5000))]\n",
        "  return char_list\n",
        "\n",
        "nums = get_num_list()\n",
        "protected_characteristics = get_protected_characteristics()\n",
        "characteristics = get_protected_characteristic_list(protected_characteristics)"
      ],
      "execution_count": 1,
      "outputs": []
    },
    {
      "cell_type": "markdown",
      "metadata": {
        "id": "xXT38-4ZV45n"
      },
      "source": [
        "## The exercises below will use the lists:  \n",
        "*   **nums** (a list of between 1 and 1000 random numbers, each number is between 0 and 1000)\n",
        "*   **characteristics** (a list of 5000 random protected_characteristics)\n",
        "\n",
        "and the tuple:\n",
        "*  **protected_characteristics** (a set of the 9 protected characteristics identified in the Equality Act)\n",
        "\n",
        "## You can run the cell above any number of times to generate new lists."
      ]
    },
    {
      "cell_type": "markdown",
      "metadata": {
        "id": "Ft0dXl7fUuaK"
      },
      "source": [
        "---\n",
        "### Exercise 1 - list head, tail and shape\n",
        "\n",
        "Write a function, **describe_list()** which will:\n",
        "*  print the length of the list `nums`\n",
        "*  print the first 10 items in `nums`  \n",
        "*  print the last 5 items in `nums`"
      ]
    },
    {
      "cell_type": "code",
      "metadata": {
        "id": "jUcZD7mmTJdA",
        "colab": {
          "base_uri": "https://localhost:8080/"
        },
        "outputId": "8e193940-1f9f-447a-ed1e-1ecc46571503"
      },
      "source": [
        "def describe_list():\n",
        "  first_ten = nums[:10]\n",
        "  last_number = nums[-5:]\n",
        "  return (len(nums), first_ten, last_number)  \n",
        "print(describe_list())\n",
        "  "
      ],
      "execution_count": null,
      "outputs": [
        {
          "output_type": "stream",
          "name": "stdout",
          "text": [
            "(1000, [61, 92, 1, 21, 15, 61, 20, 49, 9, 4], [78, 36, 39, 90, 20])\n"
          ]
        }
      ]
    },
    {
      "cell_type": "markdown",
      "metadata": {
        "id": "yNWg08k6bXv0"
      },
      "source": [
        "---\n",
        "### Exercise 2 - show tuple items\n",
        "\n",
        "Write a function which will:\n",
        "*   use a loop to print the list of protected characteristics from the `protected_characteristics` tuple.\n"
      ]
    },
    {
      "cell_type": "code",
      "metadata": {
        "id": "P2HnCG9pb1BS",
        "colab": {
          "base_uri": "https://localhost:8080/"
        },
        "outputId": "6cc5fb23-e3ec-4da7-8f25-b6fde3c1e025"
      },
      "source": [
        "def pc_list():\n",
        "  for c in protected_characteristics:\n",
        "    print(c)\n",
        "pc_list()\n"
      ],
      "execution_count": null,
      "outputs": [
        {
          "output_type": "stream",
          "name": "stdout",
          "text": [
            "age\n",
            "disability\n",
            "gender reassignment\n",
            "marriage and civil partnership\n",
            "pregnancy and maternity\n",
            "race\n",
            "religion or belief\n",
            "sex\n",
            "sexual orientation\n"
          ]
        }
      ]
    },
    {
      "cell_type": "markdown",
      "metadata": {
        "id": "RTSuQZs4b1JU"
      },
      "source": [
        "---\n",
        "### Exercise 3 - list a random subset\n",
        "\n",
        "Write a function which will:\n",
        "*  calculate the position of the middle item in the `characteristics` list   \n",
        "(*Hint: use len() to help with this*)\n",
        "*  calculate the position of the item that is 5 places before the middle item\n",
        "*  calculate the position of the item that is 5 places after the middle item\n",
        "*  print the part of the list that includes the items from 5 places before to 5 places after.  \n",
        "\n",
        "Expected output:  \n",
        "Your list will include 11 items."
      ]
    },
    {
      "cell_type": "code",
      "metadata": {
        "id": "OwhFnH2kdC11",
        "colab": {
          "base_uri": "https://localhost:8080/"
        },
        "outputId": "4a166d9b-f673-439a-8342-eb2051700e3f"
      },
      "source": [
        "def positions():\n",
        "  full_length = len(characteristics)\n",
        "  print(\"The length of the list characteristics list is: \" + str(full_length))\n",
        "\n",
        "  halfway = int(len(characteristics) / 2)  \n",
        "  print(\"The half way position of this list is \"+ str(halfway))\n",
        "\n",
        "  five_before = int(len(characteristics) / 2) -5 \n",
        "  print(\"5 before the middle is \"+ str(five_before))  \n",
        "\n",
        "  five_after = int(len(characteristics) / 2) + 5 \n",
        "  print(\"5 after the middle is \"+ str(five_after))  \n",
        "\n",
        "  for c in characteristics:\n",
        "    return characteristics[int(five_before):int(five_after)]\n",
        "    break\n",
        "\n",
        "positions()"
      ],
      "execution_count": null,
      "outputs": [
        {
          "output_type": "stream",
          "name": "stdout",
          "text": [
            "The length of the list characteristics list is: 770\n",
            "The half way position of this list is 385\n",
            "5 before the middle is 380\n",
            "5 after the middle is 390\n"
          ]
        },
        {
          "output_type": "execute_result",
          "data": {
            "text/plain": [
              "['age',\n",
              " 'pregnancy and maternity',\n",
              " 'religion or belief',\n",
              " 'sex',\n",
              " 'age',\n",
              " 'age',\n",
              " 'gender reassignment',\n",
              " 'marriage and civil partnership',\n",
              " 'marriage and civil partnership',\n",
              " 'religion or belief']"
            ]
          },
          "metadata": {},
          "execution_count": 2
        }
      ]
    },
    {
      "cell_type": "markdown",
      "metadata": {
        "id": "KS0x3oFNePI9"
      },
      "source": [
        "---\n",
        "### Exercise 4 - create a copy\n",
        "\n",
        "Write a function which will: use a for loop to create a copy of the `nums` list:\n",
        "\n",
        "*   create a new, empty, list called **new_nums**  (*Hint: an empty list is [ ]*)\n",
        "*   use a for loop which uses the following syntax:  `for num in nums:`\n",
        "*   each time round the loop append `num` to `new_nums`  ( *`new_nums.append(num)`*)\n",
        "*   print the first 10 items of `new_nums`\n",
        "*   print the first 10 items of `nums`\n",
        "*   print the length of both lists"
      ]
    },
    {
      "cell_type": "code",
      "metadata": {
        "id": "mpK1Ip3we-uC",
        "colab": {
          "base_uri": "https://localhost:8080/"
        },
        "outputId": "3ad05a93-fc0c-450c-9509-615c3d8deefe"
      },
      "source": [
        "def new_nums_list():\n",
        "  new_nums = []\n",
        "  for num in nums:\n",
        "    new_nums.append(num)\n",
        "  print(new_nums[:10])\n",
        "  print(nums[:10])\n",
        "  length_new_nums = len(nums)\n",
        "  print(\"The length of the new_nums list is: \" + str(length_new_nums))\n",
        "  length_nums = len(nums)\n",
        "  print(\"The length of the nums list is: \" + str(length_nums))\n",
        "new_nums_list()"
      ],
      "execution_count": null,
      "outputs": [
        {
          "output_type": "stream",
          "name": "stdout",
          "text": [
            "[44, 70, 100, 95, 24, 15, 67, 17, 29, 25]\n",
            "[44, 70, 100, 95, 24, 15, 67, 17, 29, 25]\n",
            "The length of the new_nums list is: 1000\n",
            "The length of the nums list is: 1000\n"
          ]
        }
      ]
    },
    {
      "cell_type": "code",
      "metadata": {
        "id": "b9TrHQ9hfoIU",
        "colab": {
          "base_uri": "https://localhost:8080/"
        },
        "outputId": "b40d2dcb-3c45-4710-c85b-2613cf68e14d"
      },
      "source": [
        "def use_list_method():\n",
        "  num_items = characteristics.count(\"age\")\n",
        "  return num_items\n",
        "print(use_list_method())"
      ],
      "execution_count": null,
      "outputs": [
        {
          "output_type": "stream",
          "name": "stdout",
          "text": [
            "74\n"
          ]
        }
      ]
    },
    {
      "cell_type": "markdown",
      "metadata": {
        "id": "zm2VI5RmfoSy"
      },
      "source": [
        "---\n",
        "### Exercise 6 - sort the nums list\n",
        "\n",
        "Write a function which will:\n",
        "*   call the function `get_num_list()` and store the result in a new list called **sort_nums**\n",
        "*   print the first, and last, 20 items in the `sort_nums` list\n",
        "*   use the `list_name.sort()` method to sort the `sort_nums` list into ascending order\n",
        "*   print the first, and last, 20 items again  \n",
        "*   use the `list_name.sort()` method again to sort the `sort_nums` list into descending order\n",
        "*   print the first, and last, 20 items again"
      ]
    },
    {
      "cell_type": "code",
      "metadata": {
        "id": "Fksgpj9JgWDs",
        "colab": {
          "base_uri": "https://localhost:8080/"
        },
        "outputId": "8cd1f982-b75e-49b8-e104-cd938ae9044a"
      },
      "source": [
        "def new_func():\n",
        "  get_num_list()  \n",
        "\n",
        "  sort_nums = []\n",
        "\n",
        "  for num in nums:\n",
        "    sort_nums.append(num)\n",
        "  print(\"the first 20 numbers are \", sort_nums[:20])\n",
        "  print(\"the last 20 numbers are \", sort_nums[-20:])\n",
        "\n",
        "  for num in nums:\n",
        "    sort_nums.sort()\n",
        "  print(\"the first 20 numbers are \", sort_nums[:20])\n",
        "  print(\"the last 20 numbers are \", sort_nums[-20:])\n",
        "\n",
        "new_func()"
      ],
      "execution_count": null,
      "outputs": [
        {
          "output_type": "stream",
          "name": "stdout",
          "text": [
            "the first 20 numbers are  [44, 70, 100, 95, 24, 15, 67, 17, 29, 25, 56, 47, 92, 84, 15, 79, 50, 93, 11, 9]\n",
            "the last 20 numbers are  [84, 45, 17, 66, 38, 70, 66, 97, 22, 62, 13, 22, 70, 77, 26, 8, 50, 89, 95, 10]\n",
            "the first 20 numbers are  [1, 1, 1, 1, 1, 1, 1, 1, 2, 2, 2, 2, 2, 2, 2, 2, 2, 2, 3, 3]\n",
            "the last 20 numbers are  [98, 98, 98, 99, 99, 99, 99, 99, 99, 99, 99, 99, 99, 99, 100, 100, 100, 100, 100, 100]\n"
          ]
        }
      ]
    },
    {
      "cell_type": "markdown",
      "metadata": {
        "id": "_OF-Xuj1UrW0"
      },
      "source": [
        "---\n",
        "### Exercise 7 - get statistics (max(), min(), sum() )\n",
        "\n",
        "Write a function which will:\n",
        "*   print the maximum and minimum numbers in the `nums` list  \n",
        "*   print the sum of the `nums` list\n",
        "*   calculate and print the average of the `nums` list (using `len()` to help)"
      ]
    },
    {
      "cell_type": "code",
      "metadata": {
        "id": "9YmYMenZVGod",
        "colab": {
          "base_uri": "https://localhost:8080/"
        },
        "outputId": "6856e363-0d18-4e82-ad59-246e615e56ba"
      },
      "source": [
        "def max_min_sum():\n",
        "  print(\"Maximum value in 'nums' list is \", max(nums))\n",
        "  print(\"Minimum value in 'nums' list is \", min(nums))\n",
        "  total_list = sum(nums)\n",
        "  print(\"Total sum of values in 'nums' list is \", total_list)\n",
        "  average_value = total_list / len(nums)\n",
        "  print(\"Average value in 'nums' list is: \", round(average_value))\n",
        "max_min_sum()\n"
      ],
      "execution_count": null,
      "outputs": [
        {
          "output_type": "stream",
          "name": "stdout",
          "text": [
            "Maximum value in 'nums' list is  100\n",
            "Minimum value in 'nums' list is  1\n",
            "Total sum of values in 'nums' list is  48404\n",
            "Average value in 'nums' list is:  48\n"
          ]
        }
      ]
    },
    {
      "cell_type": "markdown",
      "metadata": {
        "id": "Mn4tHQ_KVbHa"
      },
      "source": [
        "---\n",
        "### Exercise 8 - percentage difference\n",
        "\n",
        "Write a function which will:\n",
        "*   generate a new list called **ex8_nums** using `get_num_list()`\n",
        "*   calculate and print the percentage difference between the first number in each list (as a percentage of the number in the nums list) (Hint:  find the difference between the two numbers, divide the difference by the number in `nums` and multiply by 100)\n",
        "*   calculate and print the percentage difference between the last numbers in each list in the same way\n",
        "*   calculate and print the percentage difference between the middle numbers in each list in the same way.\n",
        "*   calculate and print the percentage difference between the sums of each list in the same way"
      ]
    },
    {
      "cell_type": "code",
      "metadata": {
        "id": "nJCQjZIeZL0e",
        "colab": {
          "base_uri": "https://localhost:8080/"
        },
        "outputId": "261a5e7b-0ef8-4d59-984b-20debb06d911"
      },
      "source": [
        "def percentage_difference():\n",
        "  nums = get_num_list()\n",
        "  ex8_nums = get_num_list()\n",
        "  print(ex8_nums)\n",
        "  print(nums)\n",
        "#first number  \n",
        "  for firstnumber in range(1):\n",
        "    firnum = round((nums[0]-ex8_nums[0])/nums[0]*100)\n",
        "  print(\"first numbers (\", nums[0],\"-\", ex8_nums[0], \") /\", ex8_nums[0], \"x 100 = \", firnum,\"%\" )\n",
        "\n",
        "\n",
        "#last number\n",
        "  for lastnumber in range(1):\n",
        "    lasnum = round((nums[-1]-ex8_nums[-1])/nums[-1]*100)\n",
        "  print(\"last numbers (\", nums[-1], \"-\", ex8_nums[-1], \") /\", nums[-1], \"x 100 = \", lasnum,\"%\" )\n",
        "#number midpoints\n",
        "  nums_midpoint = nums[len(nums)//2]\n",
        "  n_mid = nums_midpoint\n",
        "  ex8_nums_midpoint = ex8_nums[len(ex8_nums)//2]\n",
        "  e8nm_mid = ex8_nums_midpoint\n",
        "  print(e8nm_mid)\n",
        "  print(n_mid)\n",
        "  for midnumber in range(1):\n",
        "    midnum = round((n_mid - e8nm_mid)/n_mid*100)\n",
        "  print(\"mid numbers (\", n_mid, \"-\", e8nm_mid, \") /\", n_mid, \"x 100 = \", midnum,\"%\" )\n",
        "#sum difference\n",
        "  nums_sum = sum(nums)\n",
        "  ex8_nums_sum = sum(ex8_nums)\n",
        "  print(nums_sum)\n",
        "  print(ex8_nums_sum)\n",
        "  for sum_diff in range(1):\n",
        "    sum_diff = round((nums_sum - ex8_nums_sum)/nums_sum*100)\n",
        "  print(\"sum totals (\", nums_sum,\"-\", ex8_nums_sum, \") /\", ex8_nums_sum, \"x 100 = \", sum_diff,\"%\" )\n",
        "percentage_difference()\n"
      ],
      "execution_count": null,
      "outputs": [
        {
          "output_type": "stream",
          "name": "stdout",
          "text": [
            "[18, 70, 29, 81, 63, 97, 2, 6, 45, 96, 91, 42, 55, 57, 19, 24, 74, 58, 83, 88, 34, 98, 9, 68, 54, 52, 72, 85, 86, 69, 19, 54, 64, 39, 35, 22, 89, 96, 22, 66, 5, 4, 3, 83, 53, 86, 33, 52, 48, 83, 69, 58, 68, 35, 53, 45, 80, 13, 79, 53, 52, 4, 4, 71, 26, 23, 85, 6, 23, 52, 66, 1, 95, 53, 58, 89, 29, 34, 44, 78, 53, 39, 64, 61, 3, 40, 48, 71, 56, 32, 80, 63, 64, 33, 52, 57, 6, 14, 28, 100, 55, 90, 87, 6, 33, 52, 44, 30, 21, 52, 43, 67, 14, 61, 93, 52, 100, 7, 45, 18, 81, 49, 15, 27, 1, 82, 60, 51, 19, 97, 20, 13, 20, 31, 90, 91, 1, 85, 45, 11, 53, 40, 64, 5, 59, 89, 57, 31, 27, 55, 100, 47, 9, 58, 100, 81, 81, 68, 31, 13, 41, 14, 60, 100, 37, 66, 41, 58, 41, 7, 63, 64, 48, 73, 1, 46, 71, 51, 78, 37, 81, 81, 63, 9, 12, 67, 93, 6, 13, 22, 36, 7, 5, 53, 95, 39, 94, 36, 38, 7, 23, 66, 12, 34, 42, 37, 31, 98, 12, 27, 86, 22, 63, 21, 30, 33, 31, 76, 36, 83, 48, 78, 85, 31, 10, 63, 78, 34, 93, 22, 95, 51, 33, 58, 85, 73, 99, 10, 62, 75, 34, 56, 60, 35, 95, 31, 38, 55, 95, 86, 69, 78, 20, 67, 96, 75, 2, 90, 97, 94, 50, 19, 60, 40, 73, 1, 91, 84, 32, 42, 62, 68, 27, 89, 60, 36, 8, 95, 79, 61, 86, 40, 77, 54, 77, 1, 69, 28, 1, 58, 17, 83, 87, 95, 32, 7, 21, 100, 54, 34, 72, 60, 34, 32, 72, 47, 7, 60, 42, 7, 8, 57, 57, 85, 50, 25, 39, 16, 56, 26, 83, 67, 84, 23, 79, 35, 70, 67, 57, 15, 15, 29, 15, 16, 35, 11, 14, 61, 23, 92, 47, 45, 84, 23, 75, 38, 92, 93, 16, 41, 56, 78, 78, 65, 29, 98, 45, 87, 1, 87, 79, 28, 52, 71, 4, 63, 29, 53, 96, 3, 10, 58, 18, 21, 1, 44, 15, 3, 10, 31, 66, 16, 71, 52, 48, 59, 77, 85, 30, 15, 70, 88, 4, 97, 8, 39, 5, 75, 28, 63, 76, 19, 44, 4, 50, 82, 69, 40, 69, 36, 51, 8, 26, 59, 26, 81, 37, 88, 62, 90, 20, 29, 35, 5, 20, 9, 21, 6, 86, 63, 98, 20, 21, 3, 46, 25, 88, 75, 14, 66, 51, 76, 30, 95, 66, 54, 46, 23, 77, 29, 18, 59, 50, 55, 60, 97, 97, 26, 37, 10, 95, 34, 64, 8, 27, 61, 100, 24, 44, 85, 64, 95, 69, 46, 17, 26, 61, 56, 48, 23, 93, 31, 49, 39, 71, 38, 26, 51, 95, 17, 80, 92, 64, 77, 58, 3, 17, 43, 47, 94, 99, 69, 43, 36, 15, 33, 26, 64, 33, 15, 1, 54, 91, 25, 43, 20, 62, 38, 65, 41, 39, 53, 7, 97, 27, 17, 13, 89, 28, 89, 71, 16, 95, 91, 59, 11, 30, 67, 93, 12, 52, 41, 74, 31, 80, 43, 3, 64, 41, 45, 1, 66, 25, 81, 92, 69, 53, 20, 68, 11, 56, 12, 72, 69, 16, 48, 29, 71, 5, 19, 32, 39, 29, 23, 81, 2, 95, 94, 65, 1, 15, 19, 64, 60, 100, 26, 95, 21, 69, 77, 78, 39, 13, 22, 81, 71, 4, 95, 99, 65, 94, 56, 53, 70, 24, 58, 94, 76, 19, 4, 96, 10, 99, 29, 21, 21, 56, 44, 36, 84, 32, 6, 94, 45, 49, 32, 100, 14, 89, 86, 89, 64, 17, 64, 3, 95, 56, 80, 5, 90, 90, 82, 71, 66, 11, 51, 10, 46, 44, 80, 66, 7, 97, 17, 62, 51, 45, 34, 84, 9, 77, 65, 84, 74, 78, 59, 22, 81, 27, 10, 65, 23, 31, 10, 13, 21, 80, 18, 66, 92, 73, 1, 90, 13, 20, 63, 38, 29, 78, 6, 39, 97, 53, 6, 26, 96, 12, 81, 86, 55, 27, 13, 59, 24, 55, 50, 77, 25, 84, 97, 83, 98, 39, 61, 76, 14, 78, 86, 13, 11, 45, 1, 3, 5, 73, 2, 36, 68, 37, 69, 55, 89, 45, 89, 87, 2, 16, 43, 35, 14, 8, 88, 30, 10, 64, 67, 94, 92, 93, 36, 80, 29, 50, 54, 81, 37, 22, 92, 68, 39, 76, 21, 11, 92, 53, 9, 24, 11, 74, 17, 60, 14, 28, 66, 65, 88, 34, 85, 85, 57, 19, 91, 55, 22, 76, 92, 91, 20, 27, 100, 26, 40, 66, 37, 3, 93, 11, 55, 97, 78, 65, 100, 41, 73, 25, 9, 23, 100, 4, 46, 95, 93, 8, 92, 85, 59, 44, 50, 61, 2, 11, 82, 32, 53, 52, 63, 23, 80, 60, 4, 33, 50, 90, 50, 46, 80, 28, 47, 79, 65, 88, 8, 44, 89, 50, 18, 9, 87, 72, 100, 72, 11, 32, 63, 47, 68, 78, 81, 12, 74, 45, 21, 49, 78, 61, 82, 80, 54, 59, 11, 26, 71, 92, 35, 41, 52, 21, 64, 47, 4, 83, 29, 53, 57, 29, 66, 35, 4, 85, 94, 48, 59, 27, 93, 16, 72, 75, 79, 29, 84, 51, 30, 53, 99, 79, 90, 82, 69, 38, 16, 68, 25, 75, 58, 26, 59, 98, 38, 87, 89, 67, 80, 25, 26, 90, 96, 14, 90, 72, 82, 74, 19, 85, 56, 20, 22, 69, 90, 75, 97, 96, 57, 4, 17, 64, 17, 21, 40, 23, 17, 17, 91, 88, 43, 22, 28, 39, 81, 77, 4, 73, 56, 13, 70, 29, 77, 98, 72, 80, 19, 82, 19, 42, 59, 19, 30, 91, 31, 22, 71, 53, 43, 94, 25, 30, 79, 52, 65, 86, 74, 23, 82, 79, 14, 19, 60, 7, 81, 3, 29]\n",
            "[34, 89, 46, 99, 15, 95, 40, 88, 68, 68, 73, 83, 31, 43, 88, 51, 71, 68, 11, 41, 48, 89, 68, 44, 65, 71, 97, 85, 6, 66, 56, 46, 70, 36, 15, 86, 26, 89, 50, 45, 87, 77, 75, 50, 10, 97, 54, 73, 98, 47, 7, 60, 64, 30, 87, 52, 14, 22, 29, 42, 36, 48, 28, 70, 21, 5, 72, 58, 96, 73, 25, 71, 49, 93, 39, 62, 27, 86, 64, 7, 88, 9, 56, 46, 45, 31, 55, 45, 71, 8, 96, 13, 54, 6, 29, 61, 97, 72, 22, 38, 60, 85, 43, 18, 16, 4, 2, 50, 60, 7, 73, 77, 17, 30, 31, 39, 92, 90, 18, 23, 54, 61, 42, 96, 82, 84, 7, 97, 83, 46, 83, 98, 51, 42, 92, 4, 48, 20, 29, 38, 63, 83, 56, 41, 22, 20, 7, 58, 52, 32, 47, 56, 38, 97, 74, 40, 47, 60, 14, 53, 94, 13, 100, 95, 9, 78, 63, 72, 79, 16, 53, 27, 46, 27, 3, 4, 12, 53, 6, 51, 97, 48, 55, 97, 22, 32, 100, 48, 63, 47, 89, 48, 78, 96, 57, 74, 4, 45, 76, 81, 9, 67, 54, 60, 78, 21, 60, 21, 55, 55, 92, 54, 13, 6, 3, 38, 93, 5, 51, 58, 26, 24, 35, 79, 49, 60, 51, 91, 15, 91, 13, 45, 44, 40, 55, 11, 31, 92, 13, 94, 18, 14, 34, 19, 93, 81, 13, 59, 54, 50, 9, 87, 26, 52, 55, 85, 98, 17, 13, 76, 39, 96, 21, 24, 81, 61, 99, 94, 88, 32, 90, 60, 3, 34, 5, 43, 98, 80, 100, 36, 26, 60, 4, 100, 91, 97, 69, 9, 100, 74, 45, 68, 32, 3, 66, 64, 45, 75, 72, 80, 6, 90, 4, 6, 1, 29, 73, 42, 73, 40, 43, 62, 50, 57, 38, 89, 67, 34, 16, 10, 4, 73, 13, 32, 54, 5, 45, 29, 88, 54, 31, 100, 50, 27, 91, 2, 78, 80, 91, 82, 73, 85, 13, 66, 84, 67, 16, 42, 86, 56, 42, 99, 14, 41, 37, 32, 3, 29, 49, 91, 90, 73, 16, 43, 66, 84, 85, 81, 35, 54, 19, 42, 41, 97, 77, 36, 61, 52, 3, 46, 49, 86, 62, 94, 73, 20, 10, 20, 51, 94, 5, 96, 66, 74, 45, 77, 60, 65, 72, 81, 77, 52, 66, 82, 37, 60, 71, 91, 17, 35, 94, 39, 91, 13, 79, 77, 18, 10, 41, 62, 29, 66, 91, 57, 72, 48, 89, 85, 7, 44, 83, 96, 91, 59, 86, 80, 59, 62, 84, 95, 61, 4, 44, 54, 32, 86, 44, 50, 9, 10, 66, 12, 66, 58, 41, 47, 15, 81, 13, 55, 89, 55, 11, 86, 10, 72, 36, 19, 70, 96, 72, 67, 49, 12, 41, 28, 4, 94, 48, 55, 36, 64, 41, 20, 8, 42, 56, 75, 38, 80, 17, 77, 4, 47, 52, 78, 97, 28, 36, 91, 79, 67, 48, 26, 20, 70, 16, 63, 29, 80, 73, 87, 33, 85, 25, 55, 85, 54, 19, 6, 41, 23, 38, 45, 23, 42, 53, 42, 63, 28, 17, 60, 76, 50, 92, 89, 27, 18, 35, 63, 58, 59, 89, 48, 96, 96, 75, 58, 50, 5, 85, 92, 50, 62, 51, 93, 42, 45, 13, 69, 90, 56, 4, 74, 20, 41, 87, 71, 1, 54, 40, 11, 58, 37, 39, 90, 72, 36, 35, 55, 83, 44, 58, 89, 35, 12, 35, 24, 29, 24, 44, 1, 67, 44, 65, 80, 56, 24, 74, 71, 84, 32, 79, 16, 67, 88, 10, 63, 41, 84, 85, 92, 73, 22, 57, 41, 66, 24, 21, 46, 84, 28, 26, 79, 18, 58, 10, 63, 11, 17, 100, 47, 35, 95, 99, 59, 13, 44, 66, 8, 55, 6, 19, 11, 36, 65, 55, 39, 48, 80, 81, 63, 19, 96, 66, 39, 49, 83, 78, 37, 99, 54, 93, 83, 41, 13, 27, 98, 71, 34, 23, 67, 3, 78, 63, 8, 53, 44, 5, 72, 56, 41, 89, 91, 93, 95, 66, 53, 59, 64, 40, 36, 53, 80, 35, 86, 96, 37, 74, 16, 79, 20, 59, 41, 81, 55, 75, 80, 14, 56, 30, 32, 94, 87, 100, 26, 35, 73, 32, 65, 25, 27, 69, 33, 40, 30, 72, 1, 28, 43, 81, 83, 16, 78, 11, 24, 40, 22, 25, 87, 17, 64, 22, 20, 39, 42, 73, 79, 15, 63, 47, 91, 39, 46, 92, 20, 91, 76, 90, 85, 96, 26, 23, 38, 31, 69, 69, 1, 91, 68, 54, 38, 70, 47, 99, 93, 60, 35, 56, 6, 41, 16, 41, 77, 82, 11, 76, 77, 62, 95, 17, 22, 27, 39, 24, 78, 29, 50, 46, 64, 29, 10, 79, 17, 6, 60, 91, 53, 98, 32, 22, 41, 64, 66, 69, 67, 82, 39, 28, 6, 38, 50, 73, 29, 54, 89, 30, 7, 2, 51, 55, 55, 20, 6, 39, 49, 32, 8, 18, 73, 52, 18, 52, 100, 29, 32, 61, 36, 36, 39, 99, 96, 17, 71, 52, 54, 23, 24, 65, 26, 19, 37, 66, 89, 93, 79, 18, 87, 7, 22, 6, 58, 18, 94, 71, 61, 36, 96, 44, 21, 68, 90, 88, 90, 42, 35, 8, 78, 25, 96, 33, 82, 83, 30, 19, 11, 93, 4, 26, 38, 94, 41, 70, 2, 40, 35, 85, 17, 9, 68, 77, 27, 53, 83, 82, 31, 45, 64, 68, 52, 49, 56, 60, 11, 56, 53, 61, 34, 38, 8, 97, 77, 40, 5, 64, 41, 11, 23, 78, 49, 87, 99, 24, 24, 41, 4, 12, 45, 32, 30, 5, 34, 5, 52, 43, 53, 47, 14, 99, 99, 43, 50, 99, 16, 87, 84, 26, 69, 100, 33, 62, 2, 38, 33, 58, 19, 70, 63, 34, 49, 19, 35, 17, 74, 20, 4, 29, 52, 21, 28, 57, 38, 89, 83, 1, 54, 76, 99, 65, 63]\n",
            "first numbers ( 34 - 18 ) / 18 x 100 =  47 %\n",
            "last numbers ( 63 - 29 ) / 63 x 100 =  54 %\n",
            "99\n",
            "79\n",
            "mid numbers ( 79 - 99 ) / 79 x 100 =  -25 %\n",
            "51357\n",
            "50572\n",
            "sum totals ( 51357 - 50572 ) / 50572 x 100 =  2 %\n"
          ]
        }
      ]
    },
    {
      "cell_type": "code",
      "source": [],
      "metadata": {
        "id": "yOoW7eKO5xDy"
      },
      "execution_count": null,
      "outputs": []
    },
    {
      "cell_type": "markdown",
      "metadata": {
        "id": "HNs3lZmYawFO"
      },
      "source": [
        "---\n",
        "### Exercise 9 - characteristic counts\n",
        "\n",
        "Write a function which will:\n",
        "*  iterate through the `protected_characteristics` tuple and for each **characteristic**:\n",
        "*   *   count the number of occurrences of that `characteristic` in the `characteristics` list\n",
        "*   *   print the `protected_characteristic` and the **count**  \n",
        "\n",
        "Example expected output:\n",
        "\n",
        "age 100  \n",
        "disability 120  \n",
        "gender reassignment 120  \n",
        "marriage and civil partnership 111  \n",
        "pregnancy and maternity 103  \n",
        "race 106  \n",
        "religion or belief 95  \n",
        "sex 110  \n",
        "sexual orientation 113  \n",
        "\n",
        "Extra learning:  you can read [here](https://thispointer.com/python-how-to-pad-strings-with-zero-space-or-some-other-character/) how to justify the printed characteristic so that the output is organised into two columns as shown below:  \n",
        "![tabulated output](https://drive.google.com/uc?id=1CCXfX6K5ZeDefnq7vUsqxCDmqvcfY8Mz)\n",
        "\n",
        "\n",
        "\n"
      ]
    },
    {
      "cell_type": "code",
      "metadata": {
        "id": "GURT11albqUs",
        "colab": {
          "base_uri": "https://localhost:8080/"
        },
        "outputId": "52380640-3973-4d9b-88d9-44df8e0853eb"
      },
      "source": [
        "from collections import Counter\n",
        "def characteristic_counts():\n",
        "  heading = \"protected characteristics\"\n",
        "  print(heading.ljust(32),\"count\")\n",
        "  for chars in protected_characteristics:\n",
        "    print(chars.ljust(32), characteristics.count(chars))\n",
        "\n",
        "\n",
        "characteristic_counts()\n",
        "\n",
        "\n",
        "#counts = Counter(protected_characteristics)\n",
        "#print(\"age =\", counts['age'])\n",
        "#print(\"disability =\", counts['disability'])"
      ],
      "execution_count": 7,
      "outputs": [
        {
          "output_type": "stream",
          "name": "stdout",
          "text": [
            "protected characteristics        count\n",
            "age                              228\n",
            "disability                       225\n",
            "gender reassignment              217\n",
            "marriage and civil partnership   241\n",
            "pregnancy and maternity          232\n",
            "race                             211\n",
            "religion or belief               216\n",
            "sex                              226\n",
            "sexual orientation               206\n"
          ]
        }
      ]
    },
    {
      "cell_type": "markdown",
      "metadata": {
        "id": "9Po7yQj-ds38"
      },
      "source": [
        "---\n",
        "### Exercise 10 - characteristics statistics\n",
        "\n",
        "Assuming that the `characteristics` list may have been taken from a study of cases that have been taken to court in relation to the Equality Act.  \n",
        "\n",
        "Write a function which will:\n",
        "\n",
        "*   find the most common characteristic resulting in court action, from this population\n",
        "*   print this in a message, e.g. The characteristic with the highest number of court cases is:  *characteristic*\n",
        "*   print the list of `protected_characteristics`, on one line if possible - see [here](https://www.geeksforgeeks.org/g-fact-25-print-single-multiple-variable-python/)\n",
        "*   ask the user to enter a characteristic that they would like to see statistics on and use a while loop to continue until the user has entered a valid characteristic\n",
        "*   print the characteristic, its frequency and the percentage that this frequency is of the whole population."
      ]
    },
    {
      "cell_type": "code",
      "metadata": {
        "id": "uk_I5z7UgbDs",
        "colab": {
          "base_uri": "https://localhost:8080/"
        },
        "outputId": "59455f84-0809-4875-b4f5-cb6c70fb6384"
      },
      "source": [
        "from collections import Counter\n",
        "def characteristics_freq():\n",
        "  freq = 0\n",
        "  name_of_most_freq = protected_characteristics[0]\n",
        "  for chars in protected_characteristics:\n",
        "    #find and count the characteristics in the protected_characteristics list and store in frequency variable\n",
        "    frequency = characteristics.count(chars)\n",
        "    print(chars, frequency)\n",
        "    if(frequency > freq):\n",
        "      freq = frequency\n",
        "      name_of_most_freq = chars\n",
        "  return name_of_most_freq \n",
        "print(\"The characteristic with the highest number of court cases is: \", characteristics_freq())\n",
        "print(\"Available Characteristics:\")\n",
        "print(*protected_characteristics, sep = \", \")\n",
        "\n",
        "usr_sel = input(\"enter a characteristic from above to see its' statistics: \")\n",
        "\n",
        "while usr_sel not in protected_characteristics:\n",
        "  print(\"Not in list\")\n",
        "else:\n",
        "  print(\"There are \", len(characteristics), \"characteristics in the list\")\n",
        "  counted = characteristics.count(usr_sel)\n",
        "  percentage = (counted / len(characteristics)) *100\n",
        "  print(usr_sel, counted, round(percentage,0),\"%\")"
      ],
      "execution_count": 69,
      "outputs": [
        {
          "output_type": "stream",
          "name": "stdout",
          "text": [
            "age 228\n",
            "disability 225\n",
            "gender reassignment 217\n",
            "marriage and civil partnership 241\n",
            "pregnancy and maternity 232\n",
            "race 211\n",
            "religion or belief 216\n",
            "sex 226\n",
            "sexual orientation 206\n",
            "The characteristic with the highest number of court cases is:  marriage and civil partnership\n",
            "Available Characteristics:\n",
            "age, disability, gender reassignment, marriage and civil partnership, pregnancy and maternity, race, religion or belief, sex, sexual orientation\n",
            "enter a characteristic from above to see its' statistics: age\n",
            "There are  2002 characteristics in the list\n",
            "age 228 11.0 %\n"
          ]
        }
      ]
    }
  ]
}