{
  "nbformat": 4,
  "nbformat_minor": 0,
  "metadata": {
    "colab": {
      "provenance": [],
      "collapsed_sections": [],
      "include_colab_link": true
    },
    "kernelspec": {
      "name": "python3",
      "display_name": "Python 3"
    },
    "language_info": {
      "name": "python"
    }
  },
  "cells": [
    {
      "cell_type": "markdown",
      "metadata": {
        "id": "view-in-github",
        "colab_type": "text"
      },
      "source": [
        "<a href=\"https://colab.research.google.com/github/ar1emon/LEARNPYTHON/blob/main/AD_Lists_and_Tuples.ipynb\" target=\"_parent\"><img src=\"https://colab.research.google.com/assets/colab-badge.svg\" alt=\"Open In Colab\"/></a>"
      ]
    },
    {
      "cell_type": "markdown",
      "metadata": {
        "id": "Z-M-RCWATK71"
      },
      "source": [
        "# Lists and tuples\n",
        "\n",
        "Often we need to store a number of single items of data together so that they can be processed together. This might be because all the data refers to one person (e.g. name, age, gender, etc) OR it might be because we have a set of data (e.g. all the items that should be displayed in a drop down list, such as all the years from this year back to 100 years ago so that someone can select their year of birth)\n",
        "\n",
        "Python has a range of data structures available including:\n",
        "*   lists  \n",
        "*   tuples  \n",
        "*   dictionaries  \n",
        "*   sets\n",
        "\n",
        "This worksheet looks at lists and tuples.\n",
        "\n",
        "## List\n",
        "A list is a set of related, individual data objects, that are indexed and can be processed as a whole, as subsets or as individual items.  Lists are stored, essentially, as contiguous items in memory so that access can be as quick as possible.  However, they are mutable (they can be changed after they are created and stored) and so those mechanisms need to include extra functionality to deal with changing list sizes.\n",
        "\n",
        "## Tuple\n",
        "Essentially the same as a list but it is immutable.  Once it has been created it can't be changed.  It is stored in memory as contiguous items, with the size required being fixed right from the start.  This makes it faster to access.\n",
        "\n",
        "The code below will create two lists and a tuple.\n",
        "*   the first list contains 1000 random numbers between 1 and 100\n",
        "*   the second list is of random length (up to 5000) and each item is one of the 9 characteristics that are protected under the Equality Act in the UK.\n",
        "*   the tuple contains the 9 protected characteristics\n",
        "\n",
        "Before you start the exercises, run the code below.  It will generate the lists and tuple so that you can use them in the exercises.  If you need to recreate the lists again (because you have changed them and need to work on the originals, just run this cell again).\n",
        "\n",
        "***Note:***  *a list variable contains a reference to the start of the list in memory, rather than storing the list itself.  This means that if you assign the list to another variable (to make a copy), it will only copy across the reference.  If you change the copy, you change the original list.*\n",
        "\n",
        "*If you need to make a copy of the list you will need to use a loop to create a new list and copy all items across.*"
      ]
    },
    {
      "cell_type": "code",
      "metadata": {
        "id": "BDRckXeQXFMT"
      },
      "source": [
        "from random import randint, choice\n",
        "\n",
        "def get_num_list():\n",
        "  num_list = [randint(1,100) for n in range(1000)]\n",
        "  return num_list\n",
        "\n",
        "def get_protected_characteristics():\n",
        "  characteristics_tuple = ('age','disability','gender reassignment','marriage and civil partnership','pregnancy and maternity','race','religion or belief','sex','sexual orientation')\n",
        "  return characteristics_tuple\n",
        "\n",
        "def get_protected_characteristic_list(protected_characteristics):\n",
        "  char_list = [choice(protected_characteristics) for ch in range(randint(1,5000))]\n",
        "  return char_list\n",
        "\n",
        "nums = get_num_list()\n",
        "protected_characteristics = get_protected_characteristics()\n",
        "characteristics = get_protected_characteristic_list(protected_characteristics)"
      ],
      "execution_count": 2,
      "outputs": []
    },
    {
      "cell_type": "markdown",
      "metadata": {
        "id": "xXT38-4ZV45n"
      },
      "source": [
        "## The exercises below will use the lists:  \n",
        "*   **nums** (a list of between 1 and 1000 random numbers, each number is between 0 and 1000)\n",
        "*   **characteristics** (a list of 5000 random protected_characteristics)\n",
        "\n",
        "and the tuple:\n",
        "*  **protected_characteristics** (a set of the 9 protected characteristics identified in the Equality Act)\n",
        "\n",
        "## You can run the cell above any number of times to generate new lists."
      ]
    },
    {
      "cell_type": "markdown",
      "metadata": {
        "id": "Ft0dXl7fUuaK"
      },
      "source": [
        "---\n",
        "### Exercise 1 - list head, tail and shape\n",
        "\n",
        "Write a function, **describe_list()** which will:\n",
        "*  print the length of the list `nums`\n",
        "*  print the first 10 items in `nums`  \n",
        "*  print the last 5 items in `nums`"
      ]
    },
    {
      "cell_type": "code",
      "metadata": {
        "id": "jUcZD7mmTJdA",
        "colab": {
          "base_uri": "https://localhost:8080/"
        },
        "outputId": "8e193940-1f9f-447a-ed1e-1ecc46571503"
      },
      "source": [
        "def describe_list():\n",
        "  first_ten = nums[:10]\n",
        "  last_number = nums[-5:]\n",
        "  return (len(nums), first_ten, last_number)  \n",
        "print(describe_list())\n",
        "  "
      ],
      "execution_count": null,
      "outputs": [
        {
          "output_type": "stream",
          "name": "stdout",
          "text": [
            "(1000, [61, 92, 1, 21, 15, 61, 20, 49, 9, 4], [78, 36, 39, 90, 20])\n"
          ]
        }
      ]
    },
    {
      "cell_type": "markdown",
      "metadata": {
        "id": "yNWg08k6bXv0"
      },
      "source": [
        "---\n",
        "### Exercise 2 - show tuple items\n",
        "\n",
        "Write a function which will:\n",
        "*   use a loop to print the list of protected characteristics from the `protected_characteristics` tuple.\n"
      ]
    },
    {
      "cell_type": "code",
      "metadata": {
        "id": "P2HnCG9pb1BS",
        "colab": {
          "base_uri": "https://localhost:8080/"
        },
        "outputId": "6cc5fb23-e3ec-4da7-8f25-b6fde3c1e025"
      },
      "source": [
        "def pc_list():\n",
        "  for c in protected_characteristics:\n",
        "    print(c)\n",
        "pc_list()\n"
      ],
      "execution_count": null,
      "outputs": [
        {
          "output_type": "stream",
          "name": "stdout",
          "text": [
            "age\n",
            "disability\n",
            "gender reassignment\n",
            "marriage and civil partnership\n",
            "pregnancy and maternity\n",
            "race\n",
            "religion or belief\n",
            "sex\n",
            "sexual orientation\n"
          ]
        }
      ]
    },
    {
      "cell_type": "markdown",
      "metadata": {
        "id": "RTSuQZs4b1JU"
      },
      "source": [
        "---\n",
        "### Exercise 3 - list a random subset\n",
        "\n",
        "Write a function which will:\n",
        "*  calculate the position of the middle item in the `characteristics` list   \n",
        "(*Hint: use len() to help with this*)\n",
        "*  calculate the position of the item that is 5 places before the middle item\n",
        "*  calculate the position of the item that is 5 places after the middle item\n",
        "*  print the part of the list that includes the items from 5 places before to 5 places after.  \n",
        "\n",
        "Expected output:  \n",
        "Your list will include 11 items."
      ]
    },
    {
      "cell_type": "code",
      "metadata": {
        "id": "OwhFnH2kdC11",
        "colab": {
          "base_uri": "https://localhost:8080/"
        },
        "outputId": "4a166d9b-f673-439a-8342-eb2051700e3f"
      },
      "source": [
        "def positions():\n",
        "  full_length = len(characteristics)\n",
        "  print(\"The length of the list characteristics list is: \" + str(full_length))\n",
        "\n",
        "  halfway = int(len(characteristics) / 2)  \n",
        "  print(\"The half way position of this list is \"+ str(halfway))\n",
        "\n",
        "  five_before = int(len(characteristics) / 2) -5 \n",
        "  print(\"5 before the middle is \"+ str(five_before))  \n",
        "\n",
        "  five_after = int(len(characteristics) / 2) + 5 \n",
        "  print(\"5 after the middle is \"+ str(five_after))  \n",
        "\n",
        "  for c in characteristics:\n",
        "    return characteristics[int(five_before):int(five_after)]\n",
        "    break\n",
        "\n",
        "positions()"
      ],
      "execution_count": null,
      "outputs": [
        {
          "output_type": "stream",
          "name": "stdout",
          "text": [
            "The length of the list characteristics list is: 770\n",
            "The half way position of this list is 385\n",
            "5 before the middle is 380\n",
            "5 after the middle is 390\n"
          ]
        },
        {
          "output_type": "execute_result",
          "data": {
            "text/plain": [
              "['age',\n",
              " 'pregnancy and maternity',\n",
              " 'religion or belief',\n",
              " 'sex',\n",
              " 'age',\n",
              " 'age',\n",
              " 'gender reassignment',\n",
              " 'marriage and civil partnership',\n",
              " 'marriage and civil partnership',\n",
              " 'religion or belief']"
            ]
          },
          "metadata": {},
          "execution_count": 2
        }
      ]
    },
    {
      "cell_type": "markdown",
      "metadata": {
        "id": "KS0x3oFNePI9"
      },
      "source": [
        "---\n",
        "### Exercise 4 - create a copy\n",
        "\n",
        "Write a function which will: use a for loop to create a copy of the `nums` list:\n",
        "\n",
        "*   create a new, empty, list called **new_nums**  (*Hint: an empty list is [ ]*)\n",
        "*   use a for loop which uses the following syntax:  `for num in nums:`\n",
        "*   each time round the loop append `num` to `new_nums`  ( *`new_nums.append(num)`*)\n",
        "*   print the first 10 items of `new_nums`\n",
        "*   print the first 10 items of `nums`\n",
        "*   print the length of both lists"
      ]
    },
    {
      "cell_type": "code",
      "metadata": {
        "id": "mpK1Ip3we-uC",
        "colab": {
          "base_uri": "https://localhost:8080/"
        },
        "outputId": "3ad05a93-fc0c-450c-9509-615c3d8deefe"
      },
      "source": [
        "def new_nums_list():\n",
        "  new_nums = []\n",
        "  for num in nums:\n",
        "    new_nums.append(num)\n",
        "  print(new_nums[:10])\n",
        "  print(nums[:10])\n",
        "  length_new_nums = len(nums)\n",
        "  print(\"The length of the new_nums list is: \" + str(length_new_nums))\n",
        "  length_nums = len(nums)\n",
        "  print(\"The length of the nums list is: \" + str(length_nums))\n",
        "new_nums_list()"
      ],
      "execution_count": null,
      "outputs": [
        {
          "output_type": "stream",
          "name": "stdout",
          "text": [
            "[44, 70, 100, 95, 24, 15, 67, 17, 29, 25]\n",
            "[44, 70, 100, 95, 24, 15, 67, 17, 29, 25]\n",
            "The length of the new_nums list is: 1000\n",
            "The length of the nums list is: 1000\n"
          ]
        }
      ]
    },
    {
      "cell_type": "code",
      "metadata": {
        "id": "b9TrHQ9hfoIU",
        "colab": {
          "base_uri": "https://localhost:8080/"
        },
        "outputId": "b40d2dcb-3c45-4710-c85b-2613cf68e14d"
      },
      "source": [
        "def use_list_method():\n",
        "  num_items = characteristics.count(\"age\")\n",
        "  return num_items\n",
        "print(use_list_method())"
      ],
      "execution_count": null,
      "outputs": [
        {
          "output_type": "stream",
          "name": "stdout",
          "text": [
            "74\n"
          ]
        }
      ]
    },
    {
      "cell_type": "markdown",
      "metadata": {
        "id": "zm2VI5RmfoSy"
      },
      "source": [
        "---\n",
        "### Exercise 6 - sort the nums list\n",
        "\n",
        "Write a function which will:\n",
        "*   call the function `get_num_list()` and store the result in a new list called **sort_nums**\n",
        "*   print the first, and last, 20 items in the `sort_nums` list\n",
        "*   use the `list_name.sort()` method to sort the `sort_nums` list into ascending order\n",
        "*   print the first, and last, 20 items again  \n",
        "*   use the `list_name.sort()` method again to sort the `sort_nums` list into descending order\n",
        "*   print the first, and last, 20 items again"
      ]
    },
    {
      "cell_type": "code",
      "metadata": {
        "id": "Fksgpj9JgWDs",
        "colab": {
          "base_uri": "https://localhost:8080/"
        },
        "outputId": "8cd1f982-b75e-49b8-e104-cd938ae9044a"
      },
      "source": [
        "def new_func():\n",
        "  get_num_list()  \n",
        "\n",
        "  sort_nums = []\n",
        "\n",
        "  for num in nums:\n",
        "    sort_nums.append(num)\n",
        "  print(\"the first 20 numbers are \", sort_nums[:20])\n",
        "  print(\"the last 20 numbers are \", sort_nums[-20:])\n",
        "\n",
        "  for num in nums:\n",
        "    sort_nums.sort()\n",
        "  print(\"the first 20 numbers are \", sort_nums[:20])\n",
        "  print(\"the last 20 numbers are \", sort_nums[-20:])\n",
        "\n",
        "new_func()"
      ],
      "execution_count": null,
      "outputs": [
        {
          "output_type": "stream",
          "name": "stdout",
          "text": [
            "the first 20 numbers are  [44, 70, 100, 95, 24, 15, 67, 17, 29, 25, 56, 47, 92, 84, 15, 79, 50, 93, 11, 9]\n",
            "the last 20 numbers are  [84, 45, 17, 66, 38, 70, 66, 97, 22, 62, 13, 22, 70, 77, 26, 8, 50, 89, 95, 10]\n",
            "the first 20 numbers are  [1, 1, 1, 1, 1, 1, 1, 1, 2, 2, 2, 2, 2, 2, 2, 2, 2, 2, 3, 3]\n",
            "the last 20 numbers are  [98, 98, 98, 99, 99, 99, 99, 99, 99, 99, 99, 99, 99, 99, 100, 100, 100, 100, 100, 100]\n"
          ]
        }
      ]
    },
    {
      "cell_type": "markdown",
      "metadata": {
        "id": "_OF-Xuj1UrW0"
      },
      "source": [
        "---\n",
        "### Exercise 7 - get statistics (max(), min(), sum() )\n",
        "\n",
        "Write a function which will:\n",
        "*   print the maximum and minimum numbers in the `nums` list  \n",
        "*   print the sum of the `nums` list\n",
        "*   calculate and print the average of the `nums` list (using `len()` to help)"
      ]
    },
    {
      "cell_type": "code",
      "metadata": {
        "id": "9YmYMenZVGod",
        "colab": {
          "base_uri": "https://localhost:8080/"
        },
        "outputId": "6856e363-0d18-4e82-ad59-246e615e56ba"
      },
      "source": [
        "def max_min_sum():\n",
        "  print(\"Maximum value in 'nums' list is \", max(nums))\n",
        "  print(\"Minimum value in 'nums' list is \", min(nums))\n",
        "  total_list = sum(nums)\n",
        "  print(\"Total sum of values in 'nums' list is \", total_list)\n",
        "  average_value = total_list / len(nums)\n",
        "  print(\"Average value in 'nums' list is: \", round(average_value))\n",
        "max_min_sum()\n"
      ],
      "execution_count": null,
      "outputs": [
        {
          "output_type": "stream",
          "name": "stdout",
          "text": [
            "Maximum value in 'nums' list is  100\n",
            "Minimum value in 'nums' list is  1\n",
            "Total sum of values in 'nums' list is  48404\n",
            "Average value in 'nums' list is:  48\n"
          ]
        }
      ]
    },
    {
      "cell_type": "markdown",
      "metadata": {
        "id": "Mn4tHQ_KVbHa"
      },
      "source": [
        "---\n",
        "### Exercise 8 - percentage difference\n",
        "\n",
        "Write a function which will:\n",
        "*   generate a new list called **ex8_nums** using `get_num_list()`\n",
        "*   calculate and print the percentage difference between the first number in each list (as a percentage of the number in the nums list) (Hint:  find the difference between the two numbers, divide the difference by the number in `nums` and multiply by 100)\n",
        "*   calculate and print the percentage difference between the last numbers in each list in the same way\n",
        "*   calculate and print the percentage difference between the middle numbers in each list in the same way.\n",
        "*   calculate and print the percentage difference between the sums of each list in the same way"
      ]
    },
    {
      "cell_type": "code",
      "metadata": {
        "id": "nJCQjZIeZL0e",
        "colab": {
          "base_uri": "https://localhost:8080/"
        },
        "outputId": "1f0e3acd-6c3b-475d-a54e-9fc32bbadc57"
      },
      "source": [
        "def percentage_difference():\n",
        "  nums = get_num_list()\n",
        "  ex8_nums = get_num_list()\n",
        "  print(ex8_nums)\n",
        "  print(nums)\n",
        "  \n",
        "  for firstnumber in range(1):\n",
        "    firnum = round((ex8_nums[0]-nums[0])/nums[0]*100)\n",
        "  print(\"first numbers \",ex8_nums[0],\"/\", nums[0], \"x 100 = \", firnum,\"%\" )\n",
        "\n",
        "  for lastnumber in range(1):\n",
        "    lasnum = round((ex8_nums[-1]-nums[-1])/nums[-1]*100)\n",
        "  print(\"last numbers \",ex8_nums[-1],\"/\", nums[-1], \"x 100 = \", lasnum,\"%\" )\n",
        "\n",
        "  nums_midpoint = len(nums)//2\n",
        "  n_mid = nums_midpoint\n",
        "  ex8_nums_midpoint = len(ex8_nums)//2\n",
        "  e8nm_mid = ex8_nums_midpoint\n",
        "  print(e8nm_mid)\n",
        "  for midnumber in range(1):\n",
        "    midnum = round((e8nm_mid - n_mid)/n_mid*100)\n",
        "  print(\"mid numbers \",e8nm_mid,\"/\", n_mid, \"x 100 = \", midnum,\"%\" )\n",
        "\n",
        "\n",
        "  #diff_per_sum = \n",
        "percentage_difference()\n"
      ],
      "execution_count": 5,
      "outputs": [
        {
          "output_type": "stream",
          "name": "stdout",
          "text": [
            "[41, 63, 86, 9, 33, 10, 56, 6, 66, 44, 26, 50, 23, 3, 42, 13, 75, 35, 11, 70, 59, 23, 98, 7, 60, 41, 51, 76, 17, 29, 43, 56, 70, 49, 33, 86, 90, 29, 86, 85, 36, 92, 20, 3, 11, 4, 67, 88, 64, 87, 99, 100, 73, 3, 58, 77, 65, 16, 38, 64, 20, 92, 53, 6, 70, 55, 76, 66, 14, 26, 29, 42, 39, 50, 44, 89, 4, 64, 42, 82, 30, 17, 7, 68, 94, 43, 68, 73, 73, 34, 79, 33, 49, 4, 81, 56, 25, 90, 88, 65, 69, 28, 15, 36, 31, 68, 82, 13, 86, 7, 75, 54, 61, 34, 48, 24, 81, 32, 87, 71, 34, 98, 15, 97, 74, 73, 21, 86, 8, 77, 46, 76, 49, 40, 93, 73, 33, 51, 82, 87, 52, 65, 73, 70, 90, 84, 72, 91, 31, 65, 50, 65, 50, 76, 5, 55, 22, 56, 37, 22, 40, 12, 100, 10, 48, 33, 58, 65, 75, 17, 30, 74, 17, 42, 81, 73, 25, 95, 99, 97, 95, 52, 50, 46, 52, 84, 33, 42, 52, 24, 52, 34, 99, 14, 48, 69, 66, 3, 15, 39, 52, 73, 94, 21, 97, 20, 46, 2, 10, 69, 10, 68, 42, 29, 6, 44, 86, 17, 56, 17, 18, 57, 74, 71, 15, 15, 22, 41, 64, 28, 46, 30, 51, 66, 37, 4, 71, 34, 75, 35, 31, 82, 93, 42, 33, 99, 32, 79, 84, 71, 55, 92, 21, 8, 14, 28, 86, 88, 66, 43, 84, 64, 62, 70, 90, 67, 36, 30, 78, 22, 92, 48, 44, 36, 16, 52, 80, 36, 70, 38, 54, 68, 60, 83, 88, 83, 39, 21, 20, 72, 1, 90, 78, 8, 1, 7, 49, 97, 4, 57, 36, 3, 84, 61, 60, 77, 23, 31, 95, 29, 12, 61, 96, 82, 58, 12, 52, 15, 65, 13, 65, 97, 62, 12, 36, 43, 44, 58, 95, 43, 42, 86, 19, 33, 52, 55, 58, 11, 77, 21, 58, 47, 93, 37, 77, 74, 49, 10, 77, 100, 94, 36, 25, 2, 29, 86, 65, 75, 71, 53, 52, 68, 30, 60, 15, 11, 68, 99, 37, 4, 23, 28, 6, 1, 9, 33, 78, 45, 45, 77, 66, 32, 87, 21, 98, 94, 100, 30, 70, 80, 90, 99, 77, 43, 58, 18, 70, 22, 70, 96, 36, 73, 28, 89, 29, 12, 57, 33, 90, 90, 95, 87, 71, 71, 86, 30, 69, 31, 44, 79, 20, 63, 15, 65, 8, 68, 56, 31, 2, 74, 63, 51, 35, 20, 37, 27, 68, 18, 95, 88, 98, 43, 16, 16, 48, 48, 81, 60, 83, 94, 69, 95, 34, 83, 60, 14, 72, 77, 12, 69, 11, 2, 20, 58, 66, 23, 41, 60, 90, 10, 56, 18, 90, 37, 36, 4, 56, 2, 64, 43, 42, 44, 93, 37, 24, 52, 23, 70, 13, 92, 87, 86, 24, 45, 46, 54, 25, 29, 69, 81, 39, 21, 48, 45, 83, 64, 11, 82, 98, 80, 11, 32, 81, 85, 44, 44, 89, 59, 85, 72, 83, 91, 71, 97, 10, 76, 52, 2, 90, 97, 22, 1, 66, 12, 87, 49, 31, 57, 63, 58, 79, 96, 46, 26, 85, 37, 15, 70, 29, 63, 42, 24, 49, 92, 84, 29, 83, 84, 43, 9, 73, 41, 16, 39, 15, 28, 100, 65, 30, 81, 46, 67, 50, 62, 54, 16, 25, 61, 78, 73, 80, 52, 7, 39, 50, 93, 7, 48, 74, 93, 95, 39, 38, 14, 82, 2, 7, 56, 1, 67, 2, 35, 36, 34, 50, 68, 56, 17, 81, 9, 10, 21, 99, 75, 6, 6, 68, 76, 87, 93, 24, 8, 79, 80, 64, 9, 60, 31, 41, 14, 81, 61, 9, 77, 43, 57, 14, 2, 97, 42, 56, 14, 73, 43, 78, 90, 60, 99, 61, 92, 12, 34, 78, 89, 75, 86, 34, 25, 8, 23, 65, 71, 89, 65, 40, 53, 68, 93, 81, 95, 18, 69, 70, 6, 93, 45, 33, 3, 12, 16, 31, 92, 41, 76, 28, 10, 46, 25, 2, 18, 54, 61, 12, 56, 14, 28, 40, 94, 91, 27, 24, 26, 100, 46, 62, 95, 95, 90, 53, 90, 70, 34, 86, 24, 11, 79, 75, 44, 71, 84, 89, 62, 89, 83, 69, 76, 44, 8, 96, 81, 24, 52, 72, 76, 18, 32, 47, 19, 59, 9, 29, 28, 28, 1, 16, 29, 8, 69, 18, 9, 21, 52, 91, 25, 55, 6, 38, 29, 97, 86, 40, 30, 2, 57, 69, 71, 42, 26, 44, 77, 53, 34, 70, 79, 68, 27, 69, 96, 88, 55, 31, 8, 92, 85, 95, 3, 86, 25, 50, 48, 96, 30, 74, 41, 21, 1, 54, 13, 83, 43, 98, 30, 89, 84, 58, 85, 62, 99, 59, 11, 57, 18, 82, 27, 8, 49, 60, 79, 17, 84, 66, 43, 24, 94, 50, 15, 59, 57, 28, 20, 45, 8, 73, 31, 92, 68, 55, 29, 18, 67, 98, 34, 52, 72, 90, 11, 38, 57, 72, 53, 29, 95, 56, 13, 82, 65, 90, 20, 9, 48, 30, 18, 89, 98, 82, 24, 81, 83, 28, 62, 15, 73, 31, 52, 52, 17, 76, 56, 63, 17, 76, 48, 84, 71, 93, 48, 10, 12, 34, 35, 31, 100, 88, 70, 76, 9, 19, 90, 46, 7, 80, 53, 38, 87, 10, 9, 76, 26, 7, 55, 67, 23, 58, 96, 3, 76, 29, 11, 72, 14, 92, 79, 92, 36, 24, 37, 10, 100, 11, 99, 23, 52, 86, 62, 15, 14, 77, 68, 76, 65, 44, 92, 42, 92, 75, 37, 67, 39, 64, 20, 18, 65, 81, 58, 54, 56, 7, 83, 64, 62, 53, 28, 26, 21, 97, 14, 2, 37, 55, 11, 30, 13, 84, 1, 74, 99, 1, 56, 45, 21, 32, 19, 68, 42, 15, 94, 97, 50, 66, 99, 35, 76, 51, 77, 58, 46, 67, 94, 72, 41]\n",
            "[42, 39, 13, 99, 76, 56, 85, 1, 41, 31, 99, 78, 95, 20, 27, 11, 20, 43, 70, 55, 25, 3, 30, 39, 51, 60, 79, 40, 50, 81, 49, 22, 55, 39, 66, 10, 1, 44, 90, 96, 75, 37, 69, 99, 9, 6, 47, 19, 80, 6, 57, 84, 57, 51, 40, 56, 85, 78, 7, 83, 44, 86, 44, 30, 90, 30, 74, 7, 16, 95, 27, 28, 9, 21, 80, 81, 26, 72, 59, 16, 29, 100, 94, 71, 25, 93, 77, 22, 72, 38, 17, 40, 65, 36, 57, 37, 80, 56, 23, 30, 42, 93, 73, 54, 10, 3, 69, 10, 69, 37, 14, 7, 32, 45, 27, 97, 24, 62, 35, 6, 88, 25, 91, 57, 38, 75, 8, 24, 91, 5, 24, 44, 91, 34, 43, 58, 59, 33, 56, 99, 20, 13, 52, 86, 29, 95, 53, 70, 75, 11, 68, 55, 51, 5, 48, 56, 47, 23, 87, 61, 35, 86, 65, 33, 25, 41, 31, 69, 36, 71, 21, 43, 43, 90, 54, 65, 36, 29, 30, 93, 47, 93, 90, 39, 6, 81, 63, 44, 27, 93, 40, 69, 22, 95, 56, 62, 54, 44, 80, 8, 18, 1, 82, 1, 94, 46, 52, 12, 11, 53, 10, 55, 28, 90, 47, 80, 100, 43, 19, 7, 26, 12, 70, 18, 90, 59, 36, 26, 69, 77, 40, 64, 99, 35, 30, 80, 56, 35, 58, 71, 99, 21, 44, 69, 21, 46, 27, 76, 44, 24, 73, 100, 34, 88, 4, 63, 38, 60, 63, 30, 96, 68, 96, 86, 100, 12, 60, 6, 84, 45, 74, 49, 39, 92, 81, 66, 71, 24, 10, 41, 6, 6, 47, 73, 11, 4, 8, 43, 86, 59, 1, 94, 36, 48, 27, 54, 21, 33, 84, 79, 42, 77, 2, 5, 60, 43, 40, 62, 88, 1, 70, 32, 78, 70, 10, 82, 77, 80, 93, 2, 96, 30, 14, 66, 49, 76, 45, 92, 88, 70, 93, 23, 81, 85, 59, 60, 34, 46, 28, 68, 27, 23, 82, 54, 3, 74, 28, 80, 26, 2, 52, 17, 99, 11, 11, 19, 1, 47, 77, 58, 76, 24, 88, 78, 14, 79, 74, 96, 94, 79, 2, 76, 29, 94, 68, 89, 5, 29, 44, 82, 53, 71, 73, 91, 61, 70, 94, 29, 49, 26, 61, 96, 70, 38, 50, 50, 92, 64, 77, 25, 42, 69, 36, 3, 67, 14, 53, 77, 20, 35, 81, 12, 66, 5, 89, 89, 72, 45, 19, 57, 32, 95, 89, 38, 91, 87, 62, 49, 84, 33, 33, 100, 96, 11, 9, 71, 45, 93, 39, 25, 68, 82, 54, 20, 14, 77, 92, 89, 4, 58, 17, 7, 35, 39, 45, 90, 56, 31, 90, 23, 38, 19, 56, 62, 57, 97, 27, 10, 100, 99, 68, 73, 92, 94, 81, 52, 63, 12, 38, 93, 78, 89, 82, 13, 14, 44, 96, 16, 11, 95, 26, 13, 25, 26, 20, 58, 9, 65, 28, 66, 71, 12, 2, 11, 16, 100, 11, 57, 65, 58, 12, 89, 40, 76, 69, 95, 71, 77, 86, 78, 77, 17, 40, 31, 46, 1, 28, 32, 72, 78, 6, 97, 83, 35, 73, 93, 25, 84, 7, 77, 17, 91, 55, 61, 50, 34, 56, 66, 39, 69, 60, 89, 76, 43, 48, 16, 46, 49, 80, 21, 44, 49, 97, 41, 57, 50, 87, 60, 88, 30, 46, 94, 12, 21, 91, 30, 5, 5, 8, 75, 9, 64, 93, 86, 42, 47, 22, 89, 9, 49, 31, 18, 87, 12, 94, 63, 29, 54, 14, 37, 13, 51, 96, 30, 14, 67, 90, 58, 71, 97, 94, 47, 67, 48, 11, 19, 66, 49, 97, 73, 97, 37, 21, 66, 48, 42, 85, 4, 40, 59, 4, 75, 17, 54, 24, 13, 60, 59, 42, 90, 31, 83, 7, 54, 37, 93, 73, 14, 73, 7, 34, 83, 9, 7, 25, 58, 1, 72, 43, 41, 44, 99, 12, 70, 53, 74, 27, 9, 46, 100, 69, 83, 34, 73, 88, 16, 28, 72, 3, 14, 56, 15, 60, 14, 14, 76, 62, 95, 67, 94, 61, 15, 50, 19, 93, 70, 66, 25, 14, 69, 4, 18, 64, 14, 30, 17, 6, 46, 34, 31, 99, 52, 91, 96, 22, 20, 79, 1, 35, 95, 9, 73, 52, 76, 15, 67, 64, 93, 34, 15, 18, 96, 89, 47, 24, 65, 18, 44, 60, 8, 94, 90, 52, 37, 90, 10, 86, 87, 88, 21, 7, 4, 54, 27, 94, 42, 92, 36, 18, 47, 62, 66, 50, 98, 8, 100, 68, 99, 97, 77, 4, 62, 75, 68, 52, 83, 38, 66, 51, 94, 78, 81, 39, 29, 95, 7, 96, 44, 44, 57, 87, 60, 70, 25, 11, 55, 72, 31, 12, 35, 74, 39, 25, 96, 77, 83, 100, 20, 40, 89, 44, 86, 50, 42, 6, 82, 30, 64, 34, 42, 61, 60, 81, 59, 61, 12, 77, 48, 46, 23, 16, 36, 80, 40, 97, 47, 16, 71, 27, 66, 52, 96, 93, 27, 9, 18, 37, 20, 42, 47, 31, 69, 32, 15, 49, 8, 41, 65, 25, 29, 20, 39, 71, 4, 38, 24, 70, 63, 22, 13, 21, 97, 28, 97, 10, 75, 96, 30, 75, 78, 49, 18, 59, 59, 3, 89, 56, 96, 93, 96, 43, 92, 52, 72, 6, 81, 36, 36, 79, 91, 75, 33, 64, 73, 31, 45, 35, 66, 48, 90, 59, 58, 68, 76, 28, 80, 89, 88, 45, 46, 37, 76, 57, 99, 84, 84, 86, 28, 75, 50, 98, 37, 74, 48, 1, 16, 61, 16, 99, 66, 72, 45, 66, 36, 32, 33, 76, 29, 47, 28, 18, 56, 42, 87, 17, 60, 63, 81, 79, 64, 76, 74, 14, 85, 65, 92, 69, 49, 3, 45, 82, 52, 77, 70, 100, 18, 13, 76, 99, 14, 6, 35, 61, 83, 34, 7, 5, 26, 74, 2, 30, 84, 60, 7, 34, 54, 73, 36, 50, 67]\n",
            "first numbers  41 / 42 x 100 =  -2 %\n",
            "last numbers  41 / 67 x 100 =  -39 %\n",
            "500\n",
            "mid numbers  500 / 500 x 100 =  0 %\n"
          ]
        }
      ]
    },
    {
      "cell_type": "code",
      "source": [],
      "metadata": {
        "id": "yOoW7eKO5xDy"
      },
      "execution_count": null,
      "outputs": []
    },
    {
      "cell_type": "markdown",
      "metadata": {
        "id": "HNs3lZmYawFO"
      },
      "source": [
        "---\n",
        "### Exercise 9 - characteristic counts\n",
        "\n",
        "Write a function which will:\n",
        "*  iterate through the `protected_characteristics` tuple and for each **characteristic**:\n",
        "*   *   count the number of occurrences of that `characteristic` in the `characteristics` list\n",
        "*   *   print the `protected_characteristic` and the **count**  \n",
        "\n",
        "Example expected output:\n",
        "\n",
        "age 100  \n",
        "disability 120  \n",
        "gender reassignment 120  \n",
        "marriage and civil partnership 111  \n",
        "pregnancy and maternity 103  \n",
        "race 106  \n",
        "religion or belief 95  \n",
        "sex 110  \n",
        "sexual orientation 113  \n",
        "\n",
        "Extra learning:  you can read [here](https://thispointer.com/python-how-to-pad-strings-with-zero-space-or-some-other-character/) how to justify the printed characteristic so that the output is organised into two columns as shown below:  \n",
        "![tabulated output](https://drive.google.com/uc?id=1CCXfX6K5ZeDefnq7vUsqxCDmqvcfY8Mz)\n",
        "\n",
        "\n",
        "\n"
      ]
    },
    {
      "cell_type": "code",
      "metadata": {
        "id": "GURT11albqUs"
      },
      "source": [],
      "execution_count": null,
      "outputs": []
    },
    {
      "cell_type": "markdown",
      "metadata": {
        "id": "9Po7yQj-ds38"
      },
      "source": [
        "---\n",
        "### Exercise 10 - characteristics statistics\n",
        "\n",
        "Assuming that the `characteristics` list may have been taken from a study of cases that have been taken to court in relation to the Equality Act.  \n",
        "\n",
        "Write a function which will:\n",
        "\n",
        "*   find the most common characteristic resulting in court action, from this population\n",
        "*   print this in a message, e.g. The characteristic with the highest number of court cases is:  *characteristic*\n",
        "*   print the list of `protected_characteristics`, on one line if possible - see [here](https://www.geeksforgeeks.org/g-fact-25-print-single-multiple-variable-python/)\n",
        "*   ask the user to enter a characteristic that they would like to see statistics on and use a while loop to continue until the user has entered a valid characteristic\n",
        "*   print the characteristic, its frequency and the percentage that this frequency is of the whole population."
      ]
    },
    {
      "cell_type": "code",
      "metadata": {
        "id": "uk_I5z7UgbDs"
      },
      "source": [],
      "execution_count": null,
      "outputs": []
    }
  ]
}