{
  "nbformat": 4,
  "nbformat_minor": 0,
  "metadata": {
    "colab": {
      "provenance": [],
      "collapsed_sections": [],
      "include_colab_link": true
    },
    "kernelspec": {
      "name": "python3",
      "display_name": "Python 3"
    },
    "language_info": {
      "name": "python"
    }
  },
  "cells": [
    {
      "cell_type": "markdown",
      "metadata": {
        "id": "view-in-github",
        "colab_type": "text"
      },
      "source": [
        "<a href=\"https://colab.research.google.com/github/ar1emon/LEARNPYTHON/blob/main/AD_Lists_and_Tuples.ipynb\" target=\"_parent\"><img src=\"https://colab.research.google.com/assets/colab-badge.svg\" alt=\"Open In Colab\"/></a>"
      ]
    },
    {
      "cell_type": "markdown",
      "metadata": {
        "id": "Z-M-RCWATK71"
      },
      "source": [
        "# Lists and tuples\n",
        "\n",
        "Often we need to store a number of single items of data together so that they can be processed together. This might be because all the data refers to one person (e.g. name, age, gender, etc) OR it might be because we have a set of data (e.g. all the items that should be displayed in a drop down list, such as all the years from this year back to 100 years ago so that someone can select their year of birth)\n",
        "\n",
        "Python has a range of data structures available including:\n",
        "*   lists  \n",
        "*   tuples  \n",
        "*   dictionaries  \n",
        "*   sets\n",
        "\n",
        "This worksheet looks at lists and tuples.\n",
        "\n",
        "## List\n",
        "A list is a set of related, individual data objects, that are indexed and can be processed as a whole, as subsets or as individual items.  Lists are stored, essentially, as contiguous items in memory so that access can be as quick as possible.  However, they are mutable (they can be changed after they are created and stored) and so those mechanisms need to include extra functionality to deal with changing list sizes.\n",
        "\n",
        "## Tuple\n",
        "Essentially the same as a list but it is immutable.  Once it has been created it can't be changed.  It is stored in memory as contiguous items, with the size required being fixed right from the start.  This makes it faster to access.\n",
        "\n",
        "The code below will create two lists and a tuple.\n",
        "*   the first list contains 1000 random numbers between 1 and 100\n",
        "*   the second list is of random length (up to 5000) and each item is one of the 9 characteristics that are protected under the Equality Act in the UK.\n",
        "*   the tuple contains the 9 protected characteristics\n",
        "\n",
        "Before you start the exercises, run the code below.  It will generate the lists and tuple so that you can use them in the exercises.  If you need to recreate the lists again (because you have changed them and need to work on the originals, just run this cell again).\n",
        "\n",
        "***Note:***  *a list variable contains a reference to the start of the list in memory, rather than storing the list itself.  This means that if you assign the list to another variable (to make a copy), it will only copy across the reference.  If you change the copy, you change the original list.*\n",
        "\n",
        "*If you need to make a copy of the list you will need to use a loop to create a new list and copy all items across.*"
      ]
    },
    {
      "cell_type": "code",
      "metadata": {
        "id": "BDRckXeQXFMT"
      },
      "source": [
        "from random import randint, choice\n",
        "\n",
        "def get_num_list():\n",
        "  num_list = [randint(1,100) for n in range(1000)]\n",
        "  return num_list\n",
        "\n",
        "def get_protected_characteristics():\n",
        "  characteristics_tuple = ('age','disability','gender reassignment','marriage and civil partnership','pregnancy and maternity','race','religion or belief','sex','sexual orientation')\n",
        "  return characteristics_tuple\n",
        "\n",
        "def get_protected_characteristic_list(protected_characteristics):\n",
        "  char_list = [choice(protected_characteristics) for ch in range(randint(1,5000))]\n",
        "  return char_list\n",
        "\n",
        "nums = get_num_list()\n",
        "protected_characteristics = get_protected_characteristics()\n",
        "characteristics = get_protected_characteristic_list(protected_characteristics)"
      ],
      "execution_count": 2,
      "outputs": []
    },
    {
      "cell_type": "markdown",
      "metadata": {
        "id": "xXT38-4ZV45n"
      },
      "source": [
        "## The exercises below will use the lists:  \n",
        "*   **nums** (a list of between 1 and 1000 random numbers, each number is between 0 and 1000)\n",
        "*   **characteristics** (a list of 5000 random protected_characteristics)\n",
        "\n",
        "and the tuple:\n",
        "*  **protected_characteristics** (a set of the 9 protected characteristics identified in the Equality Act)\n",
        "\n",
        "## You can run the cell above any number of times to generate new lists."
      ]
    },
    {
      "cell_type": "markdown",
      "metadata": {
        "id": "Ft0dXl7fUuaK"
      },
      "source": [
        "---\n",
        "### Exercise 1 - list head, tail and shape\n",
        "\n",
        "Write a function, **describe_list()** which will:\n",
        "*  print the length of the list `nums`\n",
        "*  print the first 10 items in `nums`  \n",
        "*  print the last 5 items in `nums`"
      ]
    },
    {
      "cell_type": "code",
      "metadata": {
        "id": "jUcZD7mmTJdA",
        "colab": {
          "base_uri": "https://localhost:8080/"
        },
        "outputId": "8e193940-1f9f-447a-ed1e-1ecc46571503"
      },
      "source": [
        "def describe_list():\n",
        "  first_ten = nums[:10]\n",
        "  last_number = nums[-5:]\n",
        "  return (len(nums), first_ten, last_number)  \n",
        "print(describe_list())\n",
        "  "
      ],
      "execution_count": null,
      "outputs": [
        {
          "output_type": "stream",
          "name": "stdout",
          "text": [
            "(1000, [61, 92, 1, 21, 15, 61, 20, 49, 9, 4], [78, 36, 39, 90, 20])\n"
          ]
        }
      ]
    },
    {
      "cell_type": "markdown",
      "metadata": {
        "id": "yNWg08k6bXv0"
      },
      "source": [
        "---\n",
        "### Exercise 2 - show tuple items\n",
        "\n",
        "Write a function which will:\n",
        "*   use a loop to print the list of protected characteristics from the `protected_characteristics` tuple.\n"
      ]
    },
    {
      "cell_type": "code",
      "metadata": {
        "id": "P2HnCG9pb1BS",
        "colab": {
          "base_uri": "https://localhost:8080/"
        },
        "outputId": "6cc5fb23-e3ec-4da7-8f25-b6fde3c1e025"
      },
      "source": [
        "def pc_list():\n",
        "  for c in protected_characteristics:\n",
        "    print(c)\n",
        "pc_list()\n"
      ],
      "execution_count": null,
      "outputs": [
        {
          "output_type": "stream",
          "name": "stdout",
          "text": [
            "age\n",
            "disability\n",
            "gender reassignment\n",
            "marriage and civil partnership\n",
            "pregnancy and maternity\n",
            "race\n",
            "religion or belief\n",
            "sex\n",
            "sexual orientation\n"
          ]
        }
      ]
    },
    {
      "cell_type": "markdown",
      "metadata": {
        "id": "RTSuQZs4b1JU"
      },
      "source": [
        "---\n",
        "### Exercise 3 - list a random subset\n",
        "\n",
        "Write a function which will:\n",
        "*  calculate the position of the middle item in the `characteristics` list   \n",
        "(*Hint: use len() to help with this*)\n",
        "*  calculate the position of the item that is 5 places before the middle item\n",
        "*  calculate the position of the item that is 5 places after the middle item\n",
        "*  print the part of the list that includes the items from 5 places before to 5 places after.  \n",
        "\n",
        "Expected output:  \n",
        "Your list will include 11 items."
      ]
    },
    {
      "cell_type": "code",
      "metadata": {
        "id": "OwhFnH2kdC11",
        "colab": {
          "base_uri": "https://localhost:8080/"
        },
        "outputId": "4a166d9b-f673-439a-8342-eb2051700e3f"
      },
      "source": [
        "def positions():\n",
        "  full_length = len(characteristics)\n",
        "  print(\"The length of the list characteristics list is: \" + str(full_length))\n",
        "\n",
        "  halfway = int(len(characteristics) / 2)  \n",
        "  print(\"The half way position of this list is \"+ str(halfway))\n",
        "\n",
        "  five_before = int(len(characteristics) / 2) -5 \n",
        "  print(\"5 before the middle is \"+ str(five_before))  \n",
        "\n",
        "  five_after = int(len(characteristics) / 2) + 5 \n",
        "  print(\"5 after the middle is \"+ str(five_after))  \n",
        "\n",
        "  for c in characteristics:\n",
        "    return characteristics[int(five_before):int(five_after)]\n",
        "    break\n",
        "\n",
        "positions()"
      ],
      "execution_count": null,
      "outputs": [
        {
          "output_type": "stream",
          "name": "stdout",
          "text": [
            "The length of the list characteristics list is: 770\n",
            "The half way position of this list is 385\n",
            "5 before the middle is 380\n",
            "5 after the middle is 390\n"
          ]
        },
        {
          "output_type": "execute_result",
          "data": {
            "text/plain": [
              "['age',\n",
              " 'pregnancy and maternity',\n",
              " 'religion or belief',\n",
              " 'sex',\n",
              " 'age',\n",
              " 'age',\n",
              " 'gender reassignment',\n",
              " 'marriage and civil partnership',\n",
              " 'marriage and civil partnership',\n",
              " 'religion or belief']"
            ]
          },
          "metadata": {},
          "execution_count": 2
        }
      ]
    },
    {
      "cell_type": "markdown",
      "metadata": {
        "id": "KS0x3oFNePI9"
      },
      "source": [
        "---\n",
        "### Exercise 4 - create a copy\n",
        "\n",
        "Write a function which will: use a for loop to create a copy of the `nums` list:\n",
        "\n",
        "*   create a new, empty, list called **new_nums**  (*Hint: an empty list is [ ]*)\n",
        "*   use a for loop which uses the following syntax:  `for num in nums:`\n",
        "*   each time round the loop append `num` to `new_nums`  ( *`new_nums.append(num)`*)\n",
        "*   print the first 10 items of `new_nums`\n",
        "*   print the first 10 items of `nums`\n",
        "*   print the length of both lists"
      ]
    },
    {
      "cell_type": "code",
      "metadata": {
        "id": "mpK1Ip3we-uC",
        "colab": {
          "base_uri": "https://localhost:8080/"
        },
        "outputId": "3ad05a93-fc0c-450c-9509-615c3d8deefe"
      },
      "source": [
        "def new_nums_list():\n",
        "  new_nums = []\n",
        "  for num in nums:\n",
        "    new_nums.append(num)\n",
        "  print(new_nums[:10])\n",
        "  print(nums[:10])\n",
        "  length_new_nums = len(nums)\n",
        "  print(\"The length of the new_nums list is: \" + str(length_new_nums))\n",
        "  length_nums = len(nums)\n",
        "  print(\"The length of the nums list is: \" + str(length_nums))\n",
        "new_nums_list()"
      ],
      "execution_count": null,
      "outputs": [
        {
          "output_type": "stream",
          "name": "stdout",
          "text": [
            "[44, 70, 100, 95, 24, 15, 67, 17, 29, 25]\n",
            "[44, 70, 100, 95, 24, 15, 67, 17, 29, 25]\n",
            "The length of the new_nums list is: 1000\n",
            "The length of the nums list is: 1000\n"
          ]
        }
      ]
    },
    {
      "cell_type": "code",
      "metadata": {
        "id": "b9TrHQ9hfoIU",
        "colab": {
          "base_uri": "https://localhost:8080/"
        },
        "outputId": "b40d2dcb-3c45-4710-c85b-2613cf68e14d"
      },
      "source": [
        "def use_list_method():\n",
        "  num_items = characteristics.count(\"age\")\n",
        "  return num_items\n",
        "print(use_list_method())"
      ],
      "execution_count": null,
      "outputs": [
        {
          "output_type": "stream",
          "name": "stdout",
          "text": [
            "74\n"
          ]
        }
      ]
    },
    {
      "cell_type": "markdown",
      "metadata": {
        "id": "zm2VI5RmfoSy"
      },
      "source": [
        "---\n",
        "### Exercise 6 - sort the nums list\n",
        "\n",
        "Write a function which will:\n",
        "*   call the function `get_num_list()` and store the result in a new list called **sort_nums**\n",
        "*   print the first, and last, 20 items in the `sort_nums` list\n",
        "*   use the `list_name.sort()` method to sort the `sort_nums` list into ascending order\n",
        "*   print the first, and last, 20 items again  \n",
        "*   use the `list_name.sort()` method again to sort the `sort_nums` list into descending order\n",
        "*   print the first, and last, 20 items again"
      ]
    },
    {
      "cell_type": "code",
      "metadata": {
        "id": "Fksgpj9JgWDs",
        "colab": {
          "base_uri": "https://localhost:8080/"
        },
        "outputId": "8cd1f982-b75e-49b8-e104-cd938ae9044a"
      },
      "source": [
        "def new_func():\n",
        "  get_num_list()  \n",
        "\n",
        "  sort_nums = []\n",
        "\n",
        "  for num in nums:\n",
        "    sort_nums.append(num)\n",
        "  print(\"the first 20 numbers are \", sort_nums[:20])\n",
        "  print(\"the last 20 numbers are \", sort_nums[-20:])\n",
        "\n",
        "  for num in nums:\n",
        "    sort_nums.sort()\n",
        "  print(\"the first 20 numbers are \", sort_nums[:20])\n",
        "  print(\"the last 20 numbers are \", sort_nums[-20:])\n",
        "\n",
        "new_func()"
      ],
      "execution_count": null,
      "outputs": [
        {
          "output_type": "stream",
          "name": "stdout",
          "text": [
            "the first 20 numbers are  [44, 70, 100, 95, 24, 15, 67, 17, 29, 25, 56, 47, 92, 84, 15, 79, 50, 93, 11, 9]\n",
            "the last 20 numbers are  [84, 45, 17, 66, 38, 70, 66, 97, 22, 62, 13, 22, 70, 77, 26, 8, 50, 89, 95, 10]\n",
            "the first 20 numbers are  [1, 1, 1, 1, 1, 1, 1, 1, 2, 2, 2, 2, 2, 2, 2, 2, 2, 2, 3, 3]\n",
            "the last 20 numbers are  [98, 98, 98, 99, 99, 99, 99, 99, 99, 99, 99, 99, 99, 99, 100, 100, 100, 100, 100, 100]\n"
          ]
        }
      ]
    },
    {
      "cell_type": "markdown",
      "metadata": {
        "id": "_OF-Xuj1UrW0"
      },
      "source": [
        "---\n",
        "### Exercise 7 - get statistics (max(), min(), sum() )\n",
        "\n",
        "Write a function which will:\n",
        "*   print the maximum and minimum numbers in the `nums` list  \n",
        "*   print the sum of the `nums` list\n",
        "*   calculate and print the average of the `nums` list (using `len()` to help)"
      ]
    },
    {
      "cell_type": "code",
      "metadata": {
        "id": "9YmYMenZVGod",
        "colab": {
          "base_uri": "https://localhost:8080/"
        },
        "outputId": "6856e363-0d18-4e82-ad59-246e615e56ba"
      },
      "source": [
        "def max_min_sum():\n",
        "  print(\"Maximum value in 'nums' list is \", max(nums))\n",
        "  print(\"Minimum value in 'nums' list is \", min(nums))\n",
        "  total_list = sum(nums)\n",
        "  print(\"Total sum of values in 'nums' list is \", total_list)\n",
        "  average_value = total_list / len(nums)\n",
        "  print(\"Average value in 'nums' list is: \", round(average_value))\n",
        "max_min_sum()\n"
      ],
      "execution_count": null,
      "outputs": [
        {
          "output_type": "stream",
          "name": "stdout",
          "text": [
            "Maximum value in 'nums' list is  100\n",
            "Minimum value in 'nums' list is  1\n",
            "Total sum of values in 'nums' list is  48404\n",
            "Average value in 'nums' list is:  48\n"
          ]
        }
      ]
    },
    {
      "cell_type": "markdown",
      "metadata": {
        "id": "Mn4tHQ_KVbHa"
      },
      "source": [
        "---\n",
        "### Exercise 8 - percentage difference\n",
        "\n",
        "Write a function which will:\n",
        "*   generate a new list called **ex8_nums** using `get_num_list()`\n",
        "*   calculate and print the percentage difference between the first number in each list (as a percentage of the number in the nums list) (Hint:  find the difference between the two numbers, divide the difference by the number in `nums` and multiply by 100)\n",
        "*   calculate and print the percentage difference between the last numbers in each list in the same way\n",
        "*   calculate and print the percentage difference between the middle numbers in each list in the same way.\n",
        "*   calculate and print the percentage difference between the sums of each list in the same way"
      ]
    },
    {
      "cell_type": "code",
      "metadata": {
        "id": "nJCQjZIeZL0e",
        "colab": {
          "base_uri": "https://localhost:8080/"
        },
        "outputId": "0ce1119a-3d5c-4484-b9b7-995e15a5c94d"
      },
      "source": [
        "def percentage_difference():\n",
        "  nums = get_num_list()\n",
        "  ex8_nums = get_num_list()\n",
        "  print(ex8_nums)\n",
        "  print(nums)\n",
        "#first number  \n",
        "  for firstnumber in range(1):\n",
        "    firnum = round((nums[0]-ex8_nums[0])/nums[0]*100)\n",
        "  print(\"first numbers \",nums[0],\"/\", ex8_nums[0], \"x 100 = \", firnum,\"%\" )\n",
        "\n",
        "\n",
        "#last number\n",
        "  for lastnumber in range(1):\n",
        "    lasnum = round((ex8_nums[-1]-nums[-1])/nums[-1]*100)\n",
        "  print(\"last numbers \",ex8_nums[-1],\"/\", nums[-1], \"x 100 = \", lasnum,\"%\" )\n",
        "#number midpoints\n",
        "  nums_midpoint = nums[len(nums)//2]\n",
        "  n_mid = nums_midpoint\n",
        "  ex8_nums_midpoint = ex8_nums[len(ex8_nums)//2]\n",
        "  e8nm_mid = ex8_nums_midpoint\n",
        "  print(e8nm_mid)\n",
        "  print(n_mid)\n",
        "  for midnumber in range(1):\n",
        "    midnum = round((e8nm_mid - n_mid)/n_mid*100)\n",
        "  print(\"mid numbers \",e8nm_mid,\"/\", n_mid, \"x 100 = \", midnum,\"%\" )\n",
        "#sum difference\n",
        "\n",
        "\n",
        "percentage_difference()\n"
      ],
      "execution_count": 20,
      "outputs": [
        {
          "output_type": "stream",
          "name": "stdout",
          "text": [
            "[48, 43, 46, 63, 1, 66, 38, 20, 24, 51, 13, 17, 100, 51, 98, 88, 9, 2, 80, 77, 17, 68, 5, 85, 80, 98, 54, 25, 99, 24, 100, 64, 25, 81, 19, 30, 45, 7, 17, 90, 67, 53, 63, 3, 27, 58, 44, 83, 86, 23, 64, 88, 83, 90, 64, 37, 85, 19, 7, 51, 22, 57, 18, 53, 97, 8, 82, 1, 47, 1, 26, 18, 92, 21, 2, 12, 64, 41, 95, 41, 61, 71, 79, 89, 42, 22, 99, 64, 41, 75, 40, 32, 99, 86, 21, 80, 78, 13, 46, 22, 98, 97, 100, 10, 3, 48, 75, 3, 88, 66, 69, 97, 86, 20, 75, 56, 29, 8, 1, 3, 43, 86, 44, 43, 24, 86, 10, 74, 19, 29, 71, 15, 52, 43, 47, 22, 6, 62, 72, 14, 50, 79, 25, 96, 20, 37, 87, 62, 33, 52, 81, 67, 78, 24, 98, 32, 27, 45, 78, 49, 55, 85, 10, 84, 18, 29, 5, 66, 19, 23, 65, 89, 29, 18, 31, 37, 60, 88, 7, 13, 9, 55, 74, 20, 20, 33, 31, 66, 26, 86, 79, 60, 72, 34, 93, 60, 59, 45, 98, 51, 85, 54, 29, 68, 3, 42, 11, 76, 60, 19, 95, 100, 3, 34, 8, 19, 65, 41, 17, 88, 69, 66, 18, 90, 83, 30, 98, 30, 57, 84, 100, 22, 68, 92, 69, 47, 91, 52, 100, 60, 75, 20, 99, 32, 66, 96, 63, 32, 66, 70, 86, 47, 68, 52, 48, 35, 15, 7, 34, 38, 80, 65, 86, 99, 42, 53, 4, 62, 53, 50, 90, 6, 67, 73, 96, 6, 71, 5, 40, 1, 84, 50, 50, 6, 49, 28, 9, 98, 46, 48, 69, 9, 95, 41, 83, 89, 32, 100, 76, 34, 12, 57, 42, 35, 98, 24, 86, 87, 43, 33, 93, 15, 32, 88, 29, 9, 25, 98, 26, 50, 81, 84, 5, 73, 8, 35, 16, 58, 93, 77, 81, 1, 18, 91, 31, 74, 70, 91, 100, 26, 82, 15, 98, 83, 41, 19, 68, 49, 48, 77, 22, 21, 46, 67, 14, 73, 11, 50, 88, 95, 70, 48, 24, 16, 29, 40, 70, 94, 32, 16, 27, 94, 91, 97, 97, 73, 56, 68, 79, 66, 92, 65, 32, 90, 29, 87, 88, 54, 5, 54, 74, 100, 13, 64, 19, 35, 13, 55, 60, 42, 22, 100, 80, 72, 21, 90, 23, 20, 4, 75, 30, 90, 73, 90, 3, 38, 92, 89, 46, 69, 15, 8, 46, 84, 39, 56, 9, 78, 58, 57, 35, 30, 55, 80, 46, 100, 9, 47, 15, 45, 81, 8, 47, 57, 29, 65, 81, 33, 99, 99, 7, 84, 100, 99, 63, 18, 85, 78, 13, 22, 91, 11, 60, 8, 6, 83, 99, 37, 68, 26, 34, 15, 29, 69, 29, 3, 1, 69, 92, 50, 69, 69, 69, 57, 2, 42, 26, 99, 72, 8, 23, 49, 68, 53, 41, 63, 22, 64, 15, 25, 77, 75, 56, 30, 99, 93, 90, 55, 32, 27, 50, 48, 90, 66, 83, 19, 38, 6, 97, 79, 23, 94, 26, 34, 90, 28, 21, 63, 8, 83, 39, 6, 70, 31, 72, 15, 74, 33, 80, 6, 6, 1, 30, 45, 99, 47, 76, 47, 6, 96, 18, 27, 45, 89, 71, 41, 64, 56, 68, 25, 26, 96, 100, 72, 77, 82, 28, 89, 91, 58, 17, 65, 37, 57, 87, 86, 67, 40, 21, 26, 43, 63, 36, 69, 92, 87, 31, 95, 96, 59, 53, 93, 24, 35, 86, 41, 29, 29, 23, 83, 50, 23, 81, 50, 29, 75, 37, 52, 95, 66, 24, 92, 74, 30, 91, 90, 26, 43, 68, 10, 9, 87, 77, 24, 52, 27, 21, 100, 48, 42, 94, 97, 12, 93, 60, 4, 38, 99, 85, 86, 4, 21, 31, 7, 23, 75, 70, 88, 57, 30, 7, 45, 43, 19, 61, 79, 27, 28, 22, 51, 41, 13, 87, 10, 16, 83, 41, 42, 67, 19, 11, 31, 36, 91, 90, 19, 16, 85, 36, 23, 89, 50, 49, 83, 93, 85, 56, 47, 52, 72, 66, 33, 11, 43, 98, 91, 25, 90, 81, 96, 47, 9, 72, 82, 54, 89, 12, 77, 80, 26, 22, 51, 42, 39, 80, 79, 51, 30, 47, 44, 86, 100, 28, 25, 25, 41, 80, 82, 41, 43, 100, 21, 50, 74, 29, 64, 4, 92, 15, 80, 16, 70, 95, 43, 17, 73, 47, 65, 85, 85, 75, 81, 80, 53, 66, 42, 33, 36, 89, 95, 80, 63, 84, 44, 73, 32, 54, 40, 26, 42, 99, 100, 56, 84, 53, 36, 91, 61, 88, 20, 97, 100, 80, 13, 5, 69, 24, 12, 95, 100, 10, 42, 73, 21, 5, 74, 42, 28, 94, 38, 73, 20, 95, 63, 31, 86, 90, 17, 54, 36, 61, 72, 75, 79, 86, 91, 38, 23, 83, 47, 68, 66, 83, 52, 76, 74, 55, 24, 9, 50, 23, 25, 30, 56, 98, 7, 23, 19, 1, 57, 84, 22, 99, 28, 75, 72, 8, 37, 35, 86, 54, 25, 26, 71, 48, 46, 32, 73, 86, 20, 47, 73, 96, 100, 78, 91, 59, 63, 39, 67, 92, 98, 92, 83, 99, 87, 8, 33, 69, 52, 73, 60, 75, 73, 95, 33, 51, 92, 26, 51, 2, 77, 33, 5, 48, 4, 29, 93, 77, 32, 90, 30, 96, 17, 39, 96, 28, 35, 85, 11, 99, 33, 97, 33, 33, 26, 27, 45, 69, 95, 10, 70, 90, 45, 2, 91, 12, 5, 96, 97, 26, 31, 3, 45, 82, 8, 91, 93, 24, 20, 34, 80, 88, 6, 60, 75, 37, 55, 46, 84, 46, 7, 53, 87, 38, 67, 76, 59, 20, 39, 74, 49, 77, 12, 42, 97, 93, 53, 21, 75, 26, 60, 96, 81, 20, 68, 15, 46, 32, 23, 68, 42, 39, 71, 14, 99, 33, 45, 54, 39, 70, 14, 93, 54, 97, 28, 23, 63, 77, 55]\n",
            "[94, 56, 4, 23, 6, 81, 83, 30, 58, 83, 11, 83, 30, 29, 13, 64, 11, 73, 90, 80, 60, 2, 89, 6, 5, 93, 98, 23, 80, 65, 100, 98, 89, 63, 43, 68, 70, 84, 87, 56, 23, 13, 70, 64, 90, 14, 73, 28, 62, 27, 32, 12, 18, 8, 18, 53, 44, 19, 58, 11, 6, 32, 60, 28, 85, 9, 24, 25, 39, 38, 69, 93, 10, 12, 37, 50, 64, 88, 93, 92, 54, 17, 40, 67, 96, 1, 34, 41, 7, 42, 87, 84, 75, 99, 51, 47, 35, 12, 53, 98, 64, 12, 85, 31, 37, 77, 42, 69, 87, 66, 62, 41, 68, 2, 84, 25, 35, 100, 30, 29, 7, 45, 49, 31, 14, 98, 69, 62, 70, 73, 1, 85, 74, 37, 16, 58, 6, 99, 36, 25, 40, 66, 33, 12, 8, 65, 74, 58, 39, 56, 90, 87, 65, 59, 58, 15, 1, 67, 23, 93, 79, 10, 8, 87, 30, 16, 56, 7, 40, 2, 32, 10, 65, 26, 16, 95, 47, 56, 22, 85, 53, 78, 57, 45, 89, 7, 41, 26, 20, 17, 71, 87, 42, 62, 19, 66, 60, 12, 33, 14, 66, 58, 15, 83, 9, 50, 72, 91, 33, 51, 20, 24, 86, 50, 34, 89, 42, 23, 44, 38, 79, 48, 19, 44, 56, 82, 63, 77, 76, 58, 82, 51, 34, 21, 65, 9, 84, 15, 54, 63, 86, 63, 74, 5, 26, 35, 40, 53, 1, 87, 10, 90, 83, 44, 32, 13, 58, 20, 25, 36, 88, 43, 48, 71, 8, 54, 20, 8, 45, 32, 79, 47, 54, 59, 7, 87, 97, 20, 56, 27, 40, 31, 89, 92, 46, 55, 2, 91, 96, 6, 51, 84, 44, 56, 4, 90, 45, 100, 92, 21, 7, 48, 88, 53, 54, 38, 60, 20, 85, 73, 5, 94, 25, 59, 73, 68, 9, 17, 82, 63, 82, 43, 8, 6, 26, 87, 19, 53, 69, 5, 65, 55, 44, 45, 19, 79, 100, 100, 12, 76, 12, 88, 4, 15, 90, 10, 12, 39, 74, 74, 65, 28, 41, 56, 42, 67, 69, 96, 26, 39, 52, 43, 81, 1, 92, 98, 86, 34, 77, 80, 84, 38, 100, 26, 54, 99, 23, 46, 70, 21, 28, 71, 75, 59, 79, 51, 80, 14, 9, 63, 65, 45, 33, 25, 48, 85, 34, 4, 90, 72, 68, 19, 94, 3, 61, 89, 16, 34, 70, 43, 92, 54, 44, 56, 74, 43, 19, 99, 32, 86, 86, 15, 4, 66, 92, 69, 38, 30, 51, 19, 72, 18, 58, 8, 18, 1, 38, 52, 29, 28, 53, 77, 58, 11, 59, 2, 91, 79, 52, 38, 51, 39, 76, 3, 28, 59, 73, 55, 84, 52, 23, 49, 39, 47, 6, 33, 26, 50, 52, 31, 76, 1, 22, 49, 67, 5, 91, 84, 59, 60, 93, 1, 23, 15, 20, 82, 50, 91, 87, 39, 72, 14, 43, 90, 6, 42, 87, 20, 77, 64, 96, 94, 93, 64, 64, 89, 83, 54, 47, 63, 60, 3, 5, 13, 71, 80, 53, 81, 53, 54, 41, 80, 57, 30, 66, 57, 12, 1, 57, 80, 22, 90, 46, 17, 60, 37, 64, 48, 74, 59, 19, 98, 32, 20, 51, 33, 58, 10, 18, 65, 100, 39, 4, 39, 19, 49, 42, 75, 22, 42, 32, 60, 18, 16, 98, 86, 27, 75, 33, 16, 88, 74, 13, 61, 45, 13, 92, 64, 38, 17, 14, 32, 83, 30, 14, 25, 78, 40, 86, 16, 88, 5, 66, 91, 17, 78, 71, 79, 81, 54, 79, 13, 47, 64, 50, 74, 32, 43, 78, 21, 64, 72, 46, 33, 12, 70, 10, 10, 52, 86, 82, 21, 36, 90, 25, 99, 69, 24, 1, 78, 27, 60, 56, 10, 60, 2, 96, 33, 4, 42, 98, 32, 48, 6, 8, 61, 89, 33, 18, 30, 83, 47, 89, 72, 21, 90, 57, 75, 65, 45, 1, 53, 4, 64, 70, 17, 19, 63, 93, 91, 72, 83, 71, 27, 16, 96, 94, 24, 81, 72, 71, 46, 26, 76, 41, 17, 52, 77, 36, 11, 5, 91, 19, 14, 27, 24, 96, 39, 14, 27, 93, 93, 41, 57, 53, 72, 27, 50, 52, 14, 2, 61, 31, 5, 48, 27, 41, 87, 16, 91, 53, 55, 31, 64, 98, 60, 74, 47, 87, 31, 81, 52, 97, 100, 68, 9, 93, 77, 82, 38, 100, 10, 59, 80, 35, 69, 9, 90, 63, 84, 54, 88, 75, 92, 78, 54, 97, 56, 56, 46, 56, 96, 17, 29, 5, 7, 77, 30, 63, 36, 91, 71, 80, 30, 59, 65, 63, 59, 90, 48, 53, 85, 30, 72, 16, 37, 25, 1, 48, 97, 15, 11, 28, 54, 37, 100, 18, 41, 89, 93, 86, 47, 79, 87, 81, 6, 19, 98, 7, 35, 46, 75, 100, 20, 74, 40, 10, 17, 76, 60, 55, 77, 76, 69, 64, 96, 50, 74, 55, 14, 38, 60, 5, 74, 3, 56, 40, 35, 45, 52, 5, 68, 97, 13, 96, 61, 33, 2, 65, 58, 75, 54, 70, 90, 26, 49, 71, 91, 32, 22, 36, 21, 14, 96, 63, 47, 94, 85, 34, 80, 35, 7, 46, 46, 40, 45, 19, 76, 72, 94, 97, 20, 25, 49, 19, 14, 96, 77, 7, 58, 45, 52, 70, 90, 56, 26, 34, 90, 93, 36, 41, 96, 41, 87, 51, 86, 1, 60, 50, 17, 47, 62, 31, 76, 10, 76, 42, 17, 59, 41, 71, 12, 71, 38, 60, 14, 93, 85, 1, 74, 86, 95, 2, 4, 76, 29, 94, 96, 78, 33, 19, 84, 99, 55, 84, 59, 84, 76, 42, 1, 15, 24, 1, 14, 11, 67, 54, 63, 16, 69, 63, 39, 77, 51, 57, 89, 61, 93, 8, 48, 48, 37, 37, 13, 42, 90, 30, 20, 26, 93, 16, 84, 94, 80, 23, 10, 6, 62, 52, 45, 37, 31, 40, 33, 67, 58, 38, 67, 97, 88]\n",
            "first numbers  94 / 48 x 100 =  49 %\n",
            "last numbers  55 / 88 x 100 =  -38 %\n",
            "77\n",
            "96\n",
            "mid numbers  77 / 96 x 100 =  -20 %\n"
          ]
        }
      ]
    },
    {
      "cell_type": "code",
      "source": [],
      "metadata": {
        "id": "yOoW7eKO5xDy"
      },
      "execution_count": null,
      "outputs": []
    },
    {
      "cell_type": "markdown",
      "metadata": {
        "id": "HNs3lZmYawFO"
      },
      "source": [
        "---\n",
        "### Exercise 9 - characteristic counts\n",
        "\n",
        "Write a function which will:\n",
        "*  iterate through the `protected_characteristics` tuple and for each **characteristic**:\n",
        "*   *   count the number of occurrences of that `characteristic` in the `characteristics` list\n",
        "*   *   print the `protected_characteristic` and the **count**  \n",
        "\n",
        "Example expected output:\n",
        "\n",
        "age 100  \n",
        "disability 120  \n",
        "gender reassignment 120  \n",
        "marriage and civil partnership 111  \n",
        "pregnancy and maternity 103  \n",
        "race 106  \n",
        "religion or belief 95  \n",
        "sex 110  \n",
        "sexual orientation 113  \n",
        "\n",
        "Extra learning:  you can read [here](https://thispointer.com/python-how-to-pad-strings-with-zero-space-or-some-other-character/) how to justify the printed characteristic so that the output is organised into two columns as shown below:  \n",
        "![tabulated output](https://drive.google.com/uc?id=1CCXfX6K5ZeDefnq7vUsqxCDmqvcfY8Mz)\n",
        "\n",
        "\n",
        "\n"
      ]
    },
    {
      "cell_type": "code",
      "metadata": {
        "id": "GURT11albqUs"
      },
      "source": [],
      "execution_count": null,
      "outputs": []
    },
    {
      "cell_type": "markdown",
      "metadata": {
        "id": "9Po7yQj-ds38"
      },
      "source": [
        "---\n",
        "### Exercise 10 - characteristics statistics\n",
        "\n",
        "Assuming that the `characteristics` list may have been taken from a study of cases that have been taken to court in relation to the Equality Act.  \n",
        "\n",
        "Write a function which will:\n",
        "\n",
        "*   find the most common characteristic resulting in court action, from this population\n",
        "*   print this in a message, e.g. The characteristic with the highest number of court cases is:  *characteristic*\n",
        "*   print the list of `protected_characteristics`, on one line if possible - see [here](https://www.geeksforgeeks.org/g-fact-25-print-single-multiple-variable-python/)\n",
        "*   ask the user to enter a characteristic that they would like to see statistics on and use a while loop to continue until the user has entered a valid characteristic\n",
        "*   print the characteristic, its frequency and the percentage that this frequency is of the whole population."
      ]
    },
    {
      "cell_type": "code",
      "metadata": {
        "id": "uk_I5z7UgbDs"
      },
      "source": [],
      "execution_count": null,
      "outputs": []
    }
  ]
}