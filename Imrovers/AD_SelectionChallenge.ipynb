{
  "nbformat": 4,
  "nbformat_minor": 0,
  "metadata": {
    "colab": {
      "provenance": [],
      "collapsed_sections": [],
      "include_colab_link": true
    },
    "kernelspec": {
      "name": "python3",
      "display_name": "Python 3"
    }
  },
  "cells": [
    {
      "cell_type": "markdown",
      "metadata": {
        "id": "view-in-github",
        "colab_type": "text"
      },
      "source": [
        "<a href=\"https://colab.research.google.com/github/ar1emon/LEARNPYTHON/blob/main/Imrovers/AD_SelectionChallenge.ipynb\" target=\"_parent\"><img src=\"https://colab.research.google.com/assets/colab-badge.svg\" alt=\"Open In Colab\"/></a>"
      ]
    },
    {
      "cell_type": "markdown",
      "metadata": {
        "id": "-QxAKPD8DZfj"
      },
      "source": [
        "# Three selection challenges\n",
        "\n",
        "---\n"
      ]
    },
    {
      "cell_type": "markdown",
      "metadata": {
        "id": "2KYUALILDcM9"
      },
      "source": [
        "### Challenge 1 - password format  \n",
        "\n",
        "Write a function called **check_password_valid()** which will check the validity of a **password** input by a user.\n",
        "\n",
        "Rules for a valid password are:  \n",
        "\n",
        "*  At least 1 letter between [a-z] and 1 letter between [A-Z].\n",
        "*  At least 1 number between [0-9].\n",
        "*  At least 1 character from [$#@].\n",
        "*  Minimum length 6 characters.\n",
        "*  Maximum length 16 characters.  \n",
        "\n",
        "Let the user know if the `password` they have typed is valid and, if not, where was the first error.\n",
        "\n",
        "*Hint:  to test if a set of characters is present in a password String, you can use re.search('[character set]', `password`)*  \n",
        "\n",
        "Example:   \n",
        "*if re.search('[a-z]',`password`):*    \n",
        "if there is at least 1 character a-z in the password, re.search will not be None.\n",
        "\n",
        "**re** is a pre-written Python function for pattern searching in Strings.  It has been imported for you in the code cell below.  "
      ]
    },
    {
      "cell_type": "code",
      "metadata": {
        "id": "8wBK9IA4BO2e",
        "colab": {
          "base_uri": "https://localhost:8080/"
        },
        "outputId": "4549fe03-b83d-4bf0-fb7b-d3be9001baae"
      },
      "source": [
        "#AS THESE EXCERCISES WERE LEARNING TOOLS FOR ME, I HAVE LEFT SOME OF THE COMMENTS IN FOR MY OWN PURPOSES\n",
        "\n",
        "import re\n",
        "\n",
        "# add your check_PasswordValid() function and call below here\n",
        "def check_password_valid():\n",
        "  rules_list = ['At least 1 letter between [a-z] and 1 letter between [A-Z].','At least 1 number between [0-9].','At least 1 character from [$#@].','Minimum length 6 characters.','Maximum length 16 characters.']\n",
        "  print(\"Rules for a valid password are: \",*rules_list, sep = \"\\n\")\n",
        "  usr_password = str(input(\"Enter a password: \"))\n",
        "  #elements from regex required in password:\n",
        "  required = \"^(?=.*[a-z])(?=.*[A-Z])(?=.*[0-9])(?=.*[@$#])[A-Za-z0-9@$#]{6,16}$\"\n",
        "\n",
        "  # compiling input password to check\n",
        "  match_req = re.compile(required)\n",
        "\n",
        "  # searching regex\n",
        "  result = re.search(match_req, usr_password)\n",
        "  \n",
        "  # validating conditions\n",
        "  if result:\n",
        "    print(\"Valid Password\")\n",
        "  else:\n",
        "    print(\"Invalid Password\")\n",
        "\n",
        "check_password_valid()\n",
        "\n"
      ],
      "execution_count": null,
      "outputs": [
        {
          "output_type": "stream",
          "name": "stdout",
          "text": [
            "Rules for a valid password are: \n",
            "At least 1 letter between [a-z] and 1 letter between [A-Z].\n",
            "At least 1 number between [0-9].\n",
            "At least 1 character from [$#@].\n",
            "Minimum length 6 characters.\n",
            "Maximum length 16 characters.\n",
            "Enter a password: qwER3#\n",
            "Valid Password\n"
          ]
        }
      ]
    },
    {
      "cell_type": "markdown",
      "metadata": {
        "id": "f0R4GYTEFQS-"
      },
      "source": [
        "---\n",
        "### Challenge 2 - triangle shape  \n",
        "\n",
        "Write a function called **evaluate_triangle_shape()** which will check if a triangle is equilateral, isosceles or scalene, based on the three side lengths entered by a user (**x**, **y** and **z**.\n",
        "\n",
        "An equilateral triangle is a triangle in which all three sides are equal.\n",
        "A scalene triangle is a triangle that has three unequal sides.\n",
        "An isosceles triangle is a triangle with (at least) two equal sides.\n",
        "\n",
        "For example:  \n",
        "A triange with side lengths                                 \n",
        "x: 6                                                                    \n",
        "y: 8                                                                    \n",
        "z: 12                                                                   \n",
        "is a *Scalene triangle*\n",
        "\n",
        "A triangle with side lengths\n",
        "x:5  \n",
        "y:3   \n",
        "z:5  \n",
        "is an *Isosceles triangle*"
      ]
    },
    {
      "cell_type": "code",
      "metadata": {
        "id": "oBgl4ro1DVL0",
        "colab": {
          "base_uri": "https://localhost:8080/"
        },
        "outputId": "1689bcfd-1d0f-4ae4-93d0-f8fa6ddd418d"
      },
      "source": [
        "def evaluate_triangle_shape():\n",
        "  print(\"Input the lengths of each side of the triangle: \")\n",
        "  x = int(input(\"Side x: \"))\n",
        "  y = int(input(\"Side y: \"))\n",
        "  z = int(input(\"Side z: \"))\n",
        "\n",
        "  if x == y == z:\n",
        "    print(\"EQUILATERAL triangle\")\n",
        "  elif x==y or y==z or z==x:\n",
        "\t  print(\"ISOSCELES triangle\")\n",
        "  else:\n",
        "\t  print(\"SCALENE triangle\")\n",
        "\n",
        "\n",
        "evaluate_triangle_shape()"
      ],
      "execution_count": null,
      "outputs": [
        {
          "output_type": "stream",
          "name": "stdout",
          "text": [
            "Input the lengths of each side of the triangle: \n",
            "Side x: 2\n",
            "Side y: 2\n",
            "Side z: 2\n",
            "EQUILATERAL triangle\n"
          ]
        }
      ]
    },
    {
      "cell_type": "markdown",
      "metadata": {
        "id": "hr2EotkqG33l"
      },
      "source": [
        "---\n",
        "### Challenge 3 - which season\n",
        "\n",
        "Write a function called **determine_season()** which will ask the user to enter two integers representing a **month** and **day** and prints the season for that month and day.\n",
        "\n",
        "Note:  for this exercise the season dates are:\n",
        "*  Winter December 21 to March 20    \n",
        "*  Spring March 21 to June 20  \n",
        "*  Summer June 21 to September 20  \n",
        "*  Autumn September 21 to December 20\n",
        "\n",
        "Test input:  \n",
        "Input the month (e.g. January, February etc.): 7                     \n",
        "Input the day: 31                                                       \n",
        "\n",
        "Expected output:  \n",
        "Season is summer \n",
        "\n",
        "*Note: this will require multiple and or or operators and you should use brackets to help Python know which operations to do first*  \n",
        "\n",
        "*For an extra challenge you can check that the day is valid for the month*"
      ]
    },
    {
      "cell_type": "code",
      "metadata": {
        "id": "cvbfz8nzG4IL",
        "colab": {
          "base_uri": "https://localhost:8080/"
        },
        "outputId": "7b1e7884-f118-4de1-b20c-426404d41bda"
      },
      "source": [
        "def determine_season():\n",
        "  month = int(input(\"Enter the month in number format (eg Jan = 1): \"))\n",
        "  day = int(input(\"Enter the day of the month in number format: \"))\n",
        "  \n",
        "  #not valid\n",
        "  if month < 1 or month > 12:\n",
        "    print(\"This is not a valid month number\")\n",
        "  #december\n",
        "  elif month == 12:\n",
        "    if day <= 20:\n",
        "      print(\"it is Autumn\")\n",
        "    elif day > 20 and day <= 31:\n",
        "      print(\"it is winter\")\n",
        "    else:\n",
        "      print(\"This is not a valid day in December\")\n",
        "  #january\n",
        "  elif month == 1:\n",
        "    if day <= 31:\n",
        "      print(\"it is Winter\")\n",
        "    else:\n",
        "      print(\"This is not a valid day in January\")\n",
        "  #febuary\n",
        "  elif month == 2:\n",
        "    if day <= 28:\n",
        "      print(\"it is Winter\")\n",
        "    else:\n",
        "      print(\"This is not a valid day in February\")\n",
        "  #march\n",
        "  elif month == 3:\n",
        "    if day <= 20:\n",
        "      print(\"It is Winter\")\n",
        "    elif day >= 20 and day <= 31:\n",
        "      print(\"It is Spring\")\n",
        "    else:\n",
        "      print(\"This is not a valid day in March\")\n",
        "  #april\n",
        "  elif month == 4:\n",
        "    if day <= 30:\n",
        "      print(\"it is Spring\")\n",
        "    else:\n",
        "      print(\"This is not a valid day in April\") \n",
        "  #may\n",
        "  elif month == 5:\n",
        "    if day <= 31:\n",
        "      print(\"it is Spring\") \n",
        "    else:\n",
        "      print(\"This is not  valid day in May\")\n",
        "  #june\n",
        "  elif month == 6:\n",
        "    if day <= 20:\n",
        "      print(\"It is Spring\")\n",
        "    elif day >= 20 and day <= 30:\n",
        "      print(\"It is Summer\")\n",
        "    else:\n",
        "      print(\"This is not a valid day in June\") \n",
        "  #july\n",
        "  elif month == 7:\n",
        "    if day <= 31:\n",
        "      print(\"it is Summer\") \n",
        "    else:\n",
        "      print(\"This is not a valid day in July\")\n",
        "  #august\n",
        "  elif month == 8:\n",
        "    if day <= 31:\n",
        "      print(\"it is Summer\") \n",
        "    else:\n",
        "      print(\"This is not a valid day in August\")\n",
        "  #september\n",
        "  elif month == 9:\n",
        "    if day <= 20:\n",
        "      print(\"It is Summer\")\n",
        "    elif day >= 20 and day <= 30:\n",
        "      print(\"It is Autumn\")\n",
        "    else:\n",
        "      print(\"This is not a valid day in September\") \n",
        "  #october\n",
        "  elif month == 10:\n",
        "    if day <= 30:\n",
        "      print(\"it is Autumn\")\n",
        "    else:\n",
        "      print(\"This is not a valid day in October\")\n",
        "  #november\n",
        "  elif month == 11:\n",
        "    if day <= 31:\n",
        "      print(\"it is Autumn\")\n",
        "    else:\n",
        "      print(\"This is not a valid day in November\")\n",
        "determine_season()"
      ],
      "execution_count": null,
      "outputs": [
        {
          "output_type": "stream",
          "name": "stdout",
          "text": [
            "Enter the month in number format (eg Jan = 1): 6\n",
            "Enter the day of the month in number format: 22\n",
            "It is Summer\n"
          ]
        }
      ]
    }
  ]
}