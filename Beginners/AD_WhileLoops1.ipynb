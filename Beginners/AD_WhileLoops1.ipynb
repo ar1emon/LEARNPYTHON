{
  "nbformat": 4,
  "nbformat_minor": 0,
  "metadata": {
    "colab": {
      "provenance": [],
      "collapsed_sections": [],
      "include_colab_link": true
    },
    "kernelspec": {
      "name": "python3",
      "display_name": "Python 3"
    }
  },
  "cells": [
    {
      "cell_type": "markdown",
      "metadata": {
        "id": "view-in-github",
        "colab_type": "text"
      },
      "source": [
        "<a href=\"https://colab.research.google.com/github/ar1emon/LEARNPYTHON/blob/main/Beginners/AD_WhileLoops1.ipynb\" target=\"_parent\"><img src=\"https://colab.research.google.com/assets/colab-badge.svg\" alt=\"Open In Colab\"/></a>"
      ]
    },
    {
      "cell_type": "markdown",
      "metadata": {
        "id": "OWGIE_ptimyf"
      },
      "source": [
        "# While loops\n",
        "\n",
        "---\n"
      ]
    },
    {
      "cell_type": "markdown",
      "metadata": {
        "id": "Kjh4DVogizl5"
      },
      "source": [
        "There are many situations when an external event (such as an input from the user or finding an invalid data value) will be the thing that will cause the loop to stop.\n",
        "\n",
        "A while loop allows us to say \"repeat these instructions while something has not yet happened, or repeat these instruction while a particular state exists\"\n",
        "\n",
        "For example, we want to ask a user to enter some positive numbers to be added to a total. They will indicate that there are no more numbers by entering -1.\n",
        "\n"
      ]
    },
    {
      "cell_type": "code",
      "metadata": {
        "id": "HieVx4BrtJlU",
        "colab": {
          "base_uri": "https://localhost:8080/"
        },
        "outputId": "9f0bab15-67d3-44bd-d6d1-9989cc71fc35"
      },
      "source": [
        "# initialise a total to 0\n",
        "# read the first number\n",
        "# add the number to the total and keep reading next number and adding to total until -1 entered\n",
        "\n",
        "def running_total():\n",
        "    total = 0\n",
        "    num = int(input(\"Enter a number, or type -1 to stop\"))\n",
        "    while num != -1:\n",
        "        total = total + num\n",
        "        num = int(input(\"Enter a number, or type -1 to stop\"))\n",
        "    print(total)\n",
        "\n",
        "running_total()"
      ],
      "execution_count": null,
      "outputs": [
        {
          "output_type": "stream",
          "name": "stdout",
          "text": [
            "Enter a number, or type -1 to stop1\n",
            "Enter a number, or type -1 to stop-2\n",
            "Enter a number, or type -1 to stop-1\n",
            "-1\n"
          ]
        }
      ]
    },
    {
      "cell_type": "markdown",
      "metadata": {
        "id": "X8pROiEYtKbA"
      },
      "source": [
        "**Another example**\n",
        "\n",
        "We want to take a number from the user and keep dividing it by 2 until the answer is 1 or less, then to print the number of times it was divided. Try it out. If you enter 8 then the answer should be 3, if you enter 6 the answer will also be 3."
      ]
    },
    {
      "cell_type": "code",
      "metadata": {
        "id": "eL9nJORbtTUb",
        "colab": {
          "base_uri": "https://localhost:8080/"
        },
        "outputId": "493d00a4-72d6-43ad-e575-73809b8c875f"
      },
      "source": [
        "def div_by_two():\n",
        "  num = int(input(\"Enter a number to be processed\"))\n",
        "  number_times_divided = 0\n",
        "  while num > 1:\n",
        "    number_times_divided = number_times_divided + 1\n",
        "    num = num/2\n",
        "  print(\"Your number was divided\", number_times_divided, \"times\") \n",
        "   \n",
        "div_by_two()"
      ],
      "execution_count": null,
      "outputs": [
        {
          "output_type": "stream",
          "name": "stdout",
          "text": [
            "Enter a number to be processed8\n",
            "Your number was divided 3 times\n"
          ]
        }
      ]
    },
    {
      "cell_type": "markdown",
      "metadata": {
        "id": "jKqqk9LstW83"
      },
      "source": [
        "*Here are some more examples of use of while loops.*\n",
        "\n",
        "### Ensuring valid input  \n",
        "When reading from the keyboard it is important to ensure that the user only enters valid data. You can do this in a number of ways but a while loop can be used to make the user keep entering data until they enter something that is valid."
      ]
    },
    {
      "cell_type": "code",
      "metadata": {
        "id": "7_CoIBfluIUG",
        "colab": {
          "base_uri": "https://localhost:8080/"
        },
        "outputId": "3b3000e8-e62a-40bb-f824-3a1f79a8c3b4"
      },
      "source": [
        "# read a number from the user\n",
        "# check that the number is a positive integer.  If not, display error messages\n",
        "# keep reading until a positive integer is read\n",
        "\n",
        "def positive_num():\n",
        "  number = -1\n",
        "  while number < 0:\n",
        "    print(\"You must type a number above 0\")\n",
        "    number = int(input(\"Enter a positive number\"))\n",
        "  print(\"Thank you for typing the number\", number)\n",
        "\n",
        "positive_num()"
      ],
      "execution_count": null,
      "outputs": [
        {
          "output_type": "stream",
          "name": "stdout",
          "text": [
            "You must type a number above 0\n",
            "Enter a positive number2\n",
            "Thank you for typing the number 2\n"
          ]
        }
      ]
    },
    {
      "cell_type": "markdown",
      "metadata": {
        "id": "YiO-WgJ8zzjp"
      },
      "source": [
        "### Take home points\n",
        "\n",
        "* An algorithm is the method for solving a particular problem (e.g. getting the right sort of number, selecting a message depending on input, calculating a new figure, etc)\n",
        "* A while loop will keep repeating while the given condition is TRUE\n",
        "* As soon as the condition becomes false the loop will stop executing\n",
        "* We use while loops when we don't necessarily know how many times a loop will need to repeat, but we do know under what conditions it does need to repeat."
      ]
    },
    {
      "cell_type": "markdown",
      "metadata": {
        "id": "4CS8CNrmQUbO"
      },
      "source": [
        "---\n",
        "### Exercise 1 - get a valid username\n",
        "\n",
        "Write a function called **get_username()** which will:  \n",
        "\n",
        "*  assign the value False to a boolean variable called **valid**  \n",
        "*  start a while loop that will continue to loop while `valid` is False  \n",
        "*  in the loop:  ask the user to enter a **username**,  if the `username` is \"user\" assign the value True to `valid`, otherwise print the message \"Incorrect user name\"   \n",
        "*  after the loop, display the message \"Welcome `username`, you will now be asked to enter your password  \n",
        "\n",
        "Test input:  \n",
        "username   \n",
        "user  \n",
        "\n",
        "Expected output:  \n",
        "Incorrect username  \n",
        "Welcome user you will now be asked to enter your password  "
      ]
    },
    {
      "cell_type": "code",
      "metadata": {
        "id": "nwq55T5eRv7_",
        "colab": {
          "base_uri": "https://localhost:8080/"
        },
        "outputId": "25d74320-7948-4df8-a692-feb963b6fa79"
      },
      "source": [
        "def get_username():\n",
        "  valid = False\n",
        " \n",
        "  while valid == False:\n",
        "    username = input(\"enter a username\")\n",
        "    if username == \"user\":\n",
        "      print(\"Welcome user you will now be asked for your password\")\n",
        "      valid = True\n",
        "    else:\n",
        "      print(\"incorrect username\")\n",
        "\n",
        "get_username()"
      ],
      "execution_count": null,
      "outputs": [
        {
          "output_type": "stream",
          "name": "stdout",
          "text": [
            "enter a usernameplop\n",
            "incorrect username\n",
            "enter a usernameuser\n",
            "Welcome user you will now be asked for your password\n"
          ]
        }
      ]
    },
    {
      "cell_type": "markdown",
      "metadata": {
        "id": "FXN6-MtQRwb9"
      },
      "source": [
        "---\n",
        "### Exercise 2 - get a valid passcode  \n",
        "\n",
        "Write a function called **get_passcode()** which will:  \n",
        "\n",
        "*  assign the value False to a boolean variable called **valid**  \n",
        "*  start a while loop that will continue to loop while `valid` is False  \n",
        "*  in the loop:  ask the user to enter a **passcode**, if the `passcode` is \"9876\" assign the value True to `valid`, otherwise print the message \"Incorrect passcode\"  \n",
        "*  after the loop, display the message \"Passcode accepted\"    \n",
        "\n",
        "Test input:  \n",
        "1234   \n",
        "9876  \n",
        "\n",
        "Expected output:  \n",
        "Incorrect passcode  \n",
        "Passcode accepted  "
      ]
    },
    {
      "cell_type": "code",
      "metadata": {
        "id": "a0Z_ACOiSxsP",
        "colab": {
          "base_uri": "https://localhost:8080/"
        },
        "outputId": "b94f9e34-1009-42a6-b1cd-74cd01319b9d"
      },
      "source": [
        "def get_passcode():\n",
        "  valid = False\n",
        "  while valid == False:\n",
        "    passcode = int(input(\"enter a passcode\"))\n",
        "    if passcode == 9876:\n",
        "      valid = True\n",
        "    else:\n",
        "      print(\"Incorrect passcode\")\n",
        "  print(\"Passcode accepted\")\n",
        "get_passcode()"
      ],
      "execution_count": null,
      "outputs": [
        {
          "output_type": "stream",
          "name": "stdout",
          "text": [
            "enter a passcode4444\n",
            "Incorrect passcode\n",
            "enter a passcode4322\n",
            "Incorrect passcode\n",
            "enter a passcode9876\n",
            "Passcode accepted\n"
          ]
        }
      ]
    },
    {
      "cell_type": "markdown",
      "metadata": {
        "id": "DMeDXd7TS0ar"
      },
      "source": [
        "\n",
        "---\n",
        "### Exercise 3 - single digit input  \n",
        "\n",
        "Write a function called **get_digit()** which will:  \n",
        "\n",
        "*  assign the value False to a boolean variable called **valid_digit**  \n",
        "*  use a while loop to repeatedly ask the user to enter a single digit until the value they enter is less than 10     \n",
        "*  in the loop:  ask the user to enter a **single_digit**, if the `single_digit` is less than 10 assign the value True to `valid`, otherwise print the message \"Not a digit\"  \n",
        "*  after the loop, display the message \"Single digit entered\"    \n",
        "\n",
        "Test input:  \n",
        "10   \n",
        "9  \n",
        "\n",
        "Expected output:  \n",
        "Not a digit  \n",
        "Single digit entered  "
      ]
    },
    {
      "cell_type": "code",
      "metadata": {
        "id": "4oGXPcmqTtVN",
        "colab": {
          "base_uri": "https://localhost:8080/"
        },
        "outputId": "c637ef6b-6d00-4ba7-d6bb-c6edabb7173b"
      },
      "source": [
        "def get_digit():\n",
        "  valid_digit = False\n",
        "  while valid_digit == False:\n",
        "    single_digit = int(input(\"enter a single digit\"))\n",
        "    if single_digit < 10:\n",
        "      valid_digit = True\n",
        "    else:\n",
        "      print(\"Not a single digit\")\n",
        "  print(\"Single digit entered\")\n",
        "get_digit()"
      ],
      "execution_count": null,
      "outputs": [
        {
          "output_type": "stream",
          "name": "stdout",
          "text": [
            "enter a single digit34\n",
            "Not a single digit\n",
            "enter a single digit23\n",
            "Not a single digit\n",
            "enter a single digit1\n",
            "Single digit entered\n"
          ]
        }
      ]
    },
    {
      "cell_type": "markdown",
      "metadata": {
        "id": "o80s4nzfi37X"
      },
      "source": [
        "---\n",
        "### Exercise 4 - positive number input \n",
        "\n",
        "Write a function called **positive_number()** which will:\n",
        "*  ask the user to enter a **number**, the message should indicate that it must be a positive number  \n",
        "*  if `number` is not positive **(ie. less than 1)** show an error message and ask user to re-enter the `number` \n",
        "*  when the `number` is positive, print the `number`\n",
        "\n",
        "Test input:  \n",
        "-1\n",
        "0\n",
        "1\n",
        "\n",
        "Expected output:  \n",
        "It must be a positive number, try again  \n",
        "It must be a positive number, try again  \n",
        "1  "
      ]
    },
    {
      "cell_type": "code",
      "metadata": {
        "id": "BmZjI8PzwdT-",
        "colab": {
          "base_uri": "https://localhost:8080/"
        },
        "outputId": "eae2b4e1-3b7d-4d40-cfde-f16367117e96"
      },
      "source": [
        "def positive_number():\n",
        "  number = int(input(\"enter a positive number\"))\n",
        "  while number < 1:\n",
        "    print(\"It must be a positive number, try again\") \n",
        "    number = int(input(\"enter a positive number\"))\n",
        "  else:\n",
        "    print(number)\n",
        "positive_number()"
      ],
      "execution_count": null,
      "outputs": [
        {
          "output_type": "stream",
          "name": "stdout",
          "text": [
            "enter a positive number0\n",
            "It must be a positive number, try again\n",
            "enter a positive number0\n",
            "It must be a positive number, try again\n",
            "enter a positive number0\n",
            "It must be a positive number, try again\n",
            "enter a positive number2\n",
            "2\n"
          ]
        }
      ]
    },
    {
      "cell_type": "markdown",
      "metadata": {
        "id": "xPJfd9lUyULa"
      },
      "source": [
        "---\n",
        "### Exercise 5 - getting a number within limits \n",
        "\n",
        "Write a function called **test_limits()** which will:\n",
        "\n",
        "*  ask the user to enter a number between **1 and 31**\n",
        "*  if the number entered is less than 1 or more than 31, display the error message \"Number out of limits\"  \n",
        "*  continue asking the user until a valid input is given \n",
        "*  when a valid number is given, display the message \"Your number was `number`\" and end the program \n",
        "\n",
        "Test input:  \n",
        "40  \n",
        "50  \n",
        "30  \n",
        "\n",
        "Expected output:  \n",
        "Number out of limits  \n",
        "Number out of limits  \n",
        "Your number was 30  \n"
      ]
    },
    {
      "cell_type": "code",
      "metadata": {
        "id": "MVxhTY6zzq8k",
        "colab": {
          "base_uri": "https://localhost:8080/"
        },
        "outputId": "141aeb70-03dc-414f-8777-9a0a3af11fb8"
      },
      "source": [
        "def test_limits():\n",
        "  ent_num = int(input(\"Enter a number between 1 and 31\"))\n",
        "  while ent_num > 31 or ent_num < 1:\n",
        "    print(\"Number out of limits\")\n",
        "    ent_num = int(input(\"Enter a number between 1 and 31\"))\n",
        "  if ent_num < 32 and ent_num != 1:\n",
        "    print(\"Your number was \" + str(ent_num))\n",
        "test_limits()"
      ],
      "execution_count": null,
      "outputs": [
        {
          "output_type": "stream",
          "name": "stdout",
          "text": [
            "Enter a number between 1 and 31-2\n",
            "Number out of limits\n",
            "Enter a number between 1 and 3131\n",
            "Your number was 31\n"
          ]
        }
      ]
    },
    {
      "cell_type": "markdown",
      "metadata": {
        "id": "WcHiG9AlUPdr"
      },
      "source": [
        "---\n",
        "### Exercise 6 - getting a number outside range\n",
        "\n",
        "Write a function called **test_outlier()** which will:\n",
        "\n",
        "*  ask the user to enter a **number** that is NOT between 40 and 50  \n",
        "*  if the `number` entered is between 40 and 50 (including both 40 and 50, display the error message \"This is not an outlier\"\n",
        "*  continue asking the user until a valid `number` is given\n",
        "*  when a valid `number` is given, display the message \"You have entered an outlier\" and end the program  \n",
        "\n",
        "Test input:  \n",
        "34  \n",
        "\n",
        "Expected output:  \n",
        "You have entered an outlier  \n",
        "\n",
        "Test input:  \n",
        "44  \n",
        "50  \n",
        "40  \n",
        "34  \n",
        "\n",
        "Expected output:  \n",
        "This is not an outlier  \n",
        "This is not an outlier  \n",
        "This is not an outlier  \n",
        "You have entered an outlier  "
      ]
    },
    {
      "cell_type": "code",
      "metadata": {
        "id": "PqvtQXYnUQ8E",
        "colab": {
          "base_uri": "https://localhost:8080/",
          "height": 415
        },
        "outputId": "d289dc6e-57ee-41c5-9a44-ec4073df7ed3"
      },
      "source": [
        "def test_outlier():\n",
        "  outlier = False\n",
        "  user_number = int(input(\"Enter a number that is NOT between 40 and 50\"))\n",
        "  while user_number < 40 or user_number > 50:\n",
        "    print(\"You have entered an outlier\")\n",
        "    user_number = int(input(\"Enter a number that is NOT between 40 and 50\"))\n",
        "  if user_number > 39 and user_number < 51:\n",
        "    outlier = True\n",
        "    print(\"This is not an outlier\")\n",
        "    user_number = int(input(\"Enter a number that is NOT between 40 and 50\"))\n",
        "test_outlier()"
      ],
      "execution_count": null,
      "outputs": [
        {
          "output_type": "stream",
          "name": "stdout",
          "text": [
            "Enter a number that is NOT between 40 and 501\n",
            "You have entered an outlier\n",
            "Enter a number that is NOT between 40 and 5045\n",
            "This is not an outlier\n"
          ]
        },
        {
          "output_type": "error",
          "ename": "KeyboardInterrupt",
          "evalue": "ignored",
          "traceback": [
            "\u001b[0;31m---------------------------------------------------------------------------\u001b[0m",
            "\u001b[0;31mKeyboardInterrupt\u001b[0m                         Traceback (most recent call last)",
            "\u001b[0;32m<ipython-input-15-1020d121e98f>\u001b[0m in \u001b[0;36m<module>\u001b[0;34m\u001b[0m\n\u001b[1;32m      9\u001b[0m     \u001b[0mprint\u001b[0m\u001b[0;34m(\u001b[0m\u001b[0;34m\"This is not an outlier\"\u001b[0m\u001b[0;34m)\u001b[0m\u001b[0;34m\u001b[0m\u001b[0;34m\u001b[0m\u001b[0m\n\u001b[1;32m     10\u001b[0m     \u001b[0muser_number\u001b[0m \u001b[0;34m=\u001b[0m \u001b[0mint\u001b[0m\u001b[0;34m(\u001b[0m\u001b[0minput\u001b[0m\u001b[0;34m(\u001b[0m\u001b[0;34m\"Enter a number that is NOT between 40 and 50\"\u001b[0m\u001b[0;34m)\u001b[0m\u001b[0;34m)\u001b[0m\u001b[0;34m\u001b[0m\u001b[0;34m\u001b[0m\u001b[0m\n\u001b[0;32m---> 11\u001b[0;31m \u001b[0mtest_outlier\u001b[0m\u001b[0;34m(\u001b[0m\u001b[0;34m)\u001b[0m\u001b[0;34m\u001b[0m\u001b[0;34m\u001b[0m\u001b[0m\n\u001b[0m",
            "\u001b[0;32m<ipython-input-15-1020d121e98f>\u001b[0m in \u001b[0;36mtest_outlier\u001b[0;34m()\u001b[0m\n\u001b[1;32m      8\u001b[0m     \u001b[0moutlier\u001b[0m \u001b[0;34m=\u001b[0m \u001b[0;32mTrue\u001b[0m\u001b[0;34m\u001b[0m\u001b[0;34m\u001b[0m\u001b[0m\n\u001b[1;32m      9\u001b[0m     \u001b[0mprint\u001b[0m\u001b[0;34m(\u001b[0m\u001b[0;34m\"This is not an outlier\"\u001b[0m\u001b[0;34m)\u001b[0m\u001b[0;34m\u001b[0m\u001b[0;34m\u001b[0m\u001b[0m\n\u001b[0;32m---> 10\u001b[0;31m     \u001b[0muser_number\u001b[0m \u001b[0;34m=\u001b[0m \u001b[0mint\u001b[0m\u001b[0;34m(\u001b[0m\u001b[0minput\u001b[0m\u001b[0;34m(\u001b[0m\u001b[0;34m\"Enter a number that is NOT between 40 and 50\"\u001b[0m\u001b[0;34m)\u001b[0m\u001b[0;34m)\u001b[0m\u001b[0;34m\u001b[0m\u001b[0;34m\u001b[0m\u001b[0m\n\u001b[0m\u001b[1;32m     11\u001b[0m \u001b[0mtest_outlier\u001b[0m\u001b[0;34m(\u001b[0m\u001b[0;34m)\u001b[0m\u001b[0;34m\u001b[0m\u001b[0;34m\u001b[0m\u001b[0m\n",
            "\u001b[0;32m/usr/local/lib/python3.7/dist-packages/ipykernel/kernelbase.py\u001b[0m in \u001b[0;36mraw_input\u001b[0;34m(self, prompt)\u001b[0m\n\u001b[1;32m    861\u001b[0m             \u001b[0mself\u001b[0m\u001b[0;34m.\u001b[0m\u001b[0m_parent_ident\u001b[0m\u001b[0;34m,\u001b[0m\u001b[0;34m\u001b[0m\u001b[0;34m\u001b[0m\u001b[0m\n\u001b[1;32m    862\u001b[0m             \u001b[0mself\u001b[0m\u001b[0;34m.\u001b[0m\u001b[0m_parent_header\u001b[0m\u001b[0;34m,\u001b[0m\u001b[0;34m\u001b[0m\u001b[0;34m\u001b[0m\u001b[0m\n\u001b[0;32m--> 863\u001b[0;31m             \u001b[0mpassword\u001b[0m\u001b[0;34m=\u001b[0m\u001b[0;32mFalse\u001b[0m\u001b[0;34m,\u001b[0m\u001b[0;34m\u001b[0m\u001b[0;34m\u001b[0m\u001b[0m\n\u001b[0m\u001b[1;32m    864\u001b[0m         )\n\u001b[1;32m    865\u001b[0m \u001b[0;34m\u001b[0m\u001b[0m\n",
            "\u001b[0;32m/usr/local/lib/python3.7/dist-packages/ipykernel/kernelbase.py\u001b[0m in \u001b[0;36m_input_request\u001b[0;34m(self, prompt, ident, parent, password)\u001b[0m\n\u001b[1;32m    902\u001b[0m             \u001b[0;32mexcept\u001b[0m \u001b[0mKeyboardInterrupt\u001b[0m\u001b[0;34m:\u001b[0m\u001b[0;34m\u001b[0m\u001b[0;34m\u001b[0m\u001b[0m\n\u001b[1;32m    903\u001b[0m                 \u001b[0;31m# re-raise KeyboardInterrupt, to truncate traceback\u001b[0m\u001b[0;34m\u001b[0m\u001b[0;34m\u001b[0m\u001b[0;34m\u001b[0m\u001b[0m\n\u001b[0;32m--> 904\u001b[0;31m                 \u001b[0;32mraise\u001b[0m \u001b[0mKeyboardInterrupt\u001b[0m\u001b[0;34m(\u001b[0m\u001b[0;34m\"Interrupted by user\"\u001b[0m\u001b[0;34m)\u001b[0m \u001b[0;32mfrom\u001b[0m \u001b[0;32mNone\u001b[0m\u001b[0;34m\u001b[0m\u001b[0;34m\u001b[0m\u001b[0m\n\u001b[0m\u001b[1;32m    905\u001b[0m             \u001b[0;32mexcept\u001b[0m \u001b[0mException\u001b[0m \u001b[0;32mas\u001b[0m \u001b[0me\u001b[0m\u001b[0;34m:\u001b[0m\u001b[0;34m\u001b[0m\u001b[0;34m\u001b[0m\u001b[0m\n\u001b[1;32m    906\u001b[0m                 \u001b[0mself\u001b[0m\u001b[0;34m.\u001b[0m\u001b[0mlog\u001b[0m\u001b[0;34m.\u001b[0m\u001b[0mwarning\u001b[0m\u001b[0;34m(\u001b[0m\u001b[0;34m\"Invalid Message:\"\u001b[0m\u001b[0;34m,\u001b[0m \u001b[0mexc_info\u001b[0m\u001b[0;34m=\u001b[0m\u001b[0;32mTrue\u001b[0m\u001b[0;34m)\u001b[0m\u001b[0;34m\u001b[0m\u001b[0;34m\u001b[0m\u001b[0m\n",
            "\u001b[0;31mKeyboardInterrupt\u001b[0m: Interrupted by user"
          ]
        }
      ]
    },
    {
      "cell_type": "markdown",
      "metadata": {
        "id": "53kjOj7nzri1"
      },
      "source": [
        "---\n",
        "### Exercise 7 - multiplying a number to be greater than 20,000\n",
        "\n",
        "Write a function called **increase_to_twenty_thousand()** that will:\n",
        "\n",
        "*  ask the user to input a **number**\n",
        "*  multiply given `number` by itself repeatedly, printing its value each time it changes, until the  number has become greater (>) than 20,000\n",
        "\n",
        "Test input:  \n",
        "5\n",
        "\n",
        "Expected output:  \n",
        "5   \n",
        "25  \n",
        "125  \n",
        "625  \n",
        "3125  \n",
        "15625  \n",
        "78125  \n",
        " "
      ]
    },
    {
      "cell_type": "code",
      "metadata": {
        "id": "9vzat0W21tNA",
        "colab": {
          "base_uri": "https://localhost:8080/"
        },
        "outputId": "f61ffc52-84af-4e1c-956a-44b4163c3bc2"
      },
      "source": [
        "def increase_to_twenty_thousand():\n",
        "  user_number = int(input(\"Input a number\"))\n",
        "  multiple = user_number\n",
        "  while user_number < 20000:\n",
        "    user_number = user_number * multiple\n",
        "    print(user_number)\n",
        "increase_to_twenty_thousand()"
      ],
      "execution_count": null,
      "outputs": [
        {
          "output_type": "stream",
          "name": "stdout",
          "text": [
            "Input a number5\n",
            "25\n",
            "125\n",
            "625\n",
            "3125\n",
            "15625\n",
            "78125\n"
          ]
        }
      ]
    },
    {
      "cell_type": "markdown",
      "metadata": {
        "id": "wepL2Ufj1uvT"
      },
      "source": [
        "---\n",
        "### Exercise 8 - even and odds \n",
        "\n",
        "Write a function called **get_even_number()** that:\n",
        "\n",
        "*  asks the user to input an even number (divisible by 2)\n",
        "*  if an odd number is given, display message \"That number is odd\"\n",
        "*  once valid input given (even number), display message \"Thanks, that number is even\"\n",
        "\n",
        "Test input:  \n",
        "3  \n",
        "1  \n",
        "2  \n",
        "\n",
        "Expected output:  \n",
        "That number is odd  \n",
        "That number is odd  \n",
        "Thanks, that number is even  \n",
        "\n"
      ]
    },
    {
      "cell_type": "code",
      "metadata": {
        "id": "KME9Qfcs45yJ",
        "colab": {
          "base_uri": "https://localhost:8080/"
        },
        "outputId": "c1aa5b79-b742-4af1-d3c7-dc056b9c9c88"
      },
      "source": [
        "def get_even_number():\n",
        "  user_num = int(input(\"input an even number\"))\n",
        "  number = user_num\n",
        "  while (number % 2) == 0:\n",
        "    print(\"That number is even\")\n",
        "    break\n",
        "  else:\n",
        "    print(\"That number is odd\")\n",
        "get_even_number()"
      ],
      "execution_count": null,
      "outputs": [
        {
          "output_type": "stream",
          "name": "stdout",
          "text": [
            "input an even number8\n",
            "That number is even\n"
          ]
        }
      ]
    },
    {
      "cell_type": "markdown",
      "metadata": {
        "id": "-p3LVygZwd6R"
      },
      "source": [
        "### Exercise 9 - menu choice \n",
        "\n",
        "Write a function called **show_special_numbers()** which will:\n",
        "\n",
        "*  display the following menu \n",
        "\n",
        "*What value would you like to see?*\n",
        "\n",
        "1. *Pi*\n",
        "2. *Plank’s constant*\n",
        "3. *E*\n",
        "4. *Square root of 2*\n",
        "5. *Quit the program*\n",
        "\n",
        "*  ask the user to input which value they would like to see by typing a number between 1 - 5 \n",
        "*  read and process the choice while the user selects anything other than 5 (Quit the program)\n",
        "\n",
        "To process the choice:  \n",
        "* if the number is 1 - print 3.14159265359\n",
        "* if the number is 2 - print 6.62607004 × 10-34 (in Python this would be written 6.62607004E-34\n",
        "* if the number is 3 - print 2.71828\n",
        "* if the number is 4 - print 1.414\n",
        "* if the number is 5 - print the message (\"Thank you for using this program\")\n",
        "* if the number is anything else - print \"Invalid choice\"\n",
        "\n",
        "The program will print the message associated with the menu choice and will then display the menu again and ask the user to select a choice.  \n",
        "\n",
        "When the user enters 5, the program should stop repeating.\n",
        "\n",
        "Test input:    \n",
        "1  \n",
        "4  \n",
        "6  \n",
        "5  \n",
        "\n",
        "Expected output:    \n",
        "3.14159265359  \n",
        "1.414  \n",
        "Invalid choice  \n",
        "Thank you for using this program  "
      ]
    },
    {
      "cell_type": "code",
      "metadata": {
        "id": "EZdR70D-yP_Y",
        "colab": {
          "base_uri": "https://localhost:8080/"
        },
        "outputId": "d06c3207-d9a4-4ce6-86ec-0857f3efd02f"
      },
      "source": [
        "from binascii import rlecode_hqx\n",
        "def show_special_numbers():\n",
        "  list = ['1. Pi' , '2. Plank’s constant' , '3. E' , '4. Square root of 2' , '5. Quit the program']\n",
        "   \n",
        "  for item in list:\n",
        "      print(item)\n",
        "  user_req = int(input(\"enter a number between 1 & 5\"))\n",
        "\n",
        "  while user_req >= 1 and user_req < 6:\n",
        "    if user_req == 1:\n",
        "      print(3.14159265359)\n",
        "      user_req = int(input(\"enter a number between 1 & 5\"))\n",
        "    elif user_req == 2:\n",
        "      print(\"6.62607004 x 10-34\")\n",
        "      user_req = int(input(\"enter a number between 1 & 5\"))\n",
        "    elif user_req == 3:\n",
        "      print(2.71828)\n",
        "      user_req = int(input(\"enter a number between 1 & 5\"))\n",
        "    elif user_req == 4:\n",
        "      print(1.414)\n",
        "      user_req = int(input(\"enter a number between 1 & 5\"))\n",
        "    elif user_req == 5:\n",
        "      print(\"Thank you for using this program\")\n",
        "      break\n",
        "    \n",
        "  \n",
        "show_special_numbers()"
      ],
      "execution_count": null,
      "outputs": [
        {
          "output_type": "stream",
          "name": "stdout",
          "text": [
            "1. Pi\n",
            "2. Plank’s constant\n",
            "3. E\n",
            "4. Square root of 2\n",
            "5. Quit the program\n",
            "enter a number between 1 & 55\n",
            "Thank you for using this program\n"
          ]
        }
      ]
    },
    {
      "cell_type": "markdown",
      "metadata": {
        "id": "Ig_WrlmPWG4v"
      },
      "source": [
        "---\n",
        "### Exercise 10 - Guess the number  \n",
        "\n",
        "Write a function called **guess_number(number)** which will:  \n",
        "\n",
        "Ask the user to guess the number within 6 attempts.  \n",
        "\n",
        "The function will be given a random number (called `number`) and should use a while loop that will continue while the user has not guessed correctly and has had less than 6 attempts (don't forget to set the number of attempts to 0 before the loop and increment it every time a guess is made).  \n",
        "\n",
        "In the loop:  \n",
        "\n",
        "*  ask the user to enter a **guess**  \n",
        "*  if the `guess` is greater than the `number` print \"Too high\", if less than the number print \"Too low\" or if correct print \"You guessed it\"  \n",
        "*  count the `attempt`  \n",
        "\n",
        "After the loop if the maximum attempts has been reached, print \"Too many attempts\"\n",
        "\n",
        "\n"
      ]
    },
    {
      "cell_type": "code",
      "metadata": {
        "id": "7qagArrHWHGV",
        "colab": {
          "base_uri": "https://localhost:8080/",
          "height": 380
        },
        "outputId": "021ddd1f-5b13-4440-e937-fac4447208fc"
      },
      "source": [
        "from random import randint\n",
        "\n",
        "def guess_number(number):\n",
        "  # add your code below here, remembering to indent\n",
        "  print(\"Guess the number within 6 attempts\")\n",
        "  #variable to define no of guesses\n",
        "  guesses_made = 0\n",
        "  print(number)\n",
        "  #loop to continue until correct guess or 6 guesses made\n",
        "  while guesses_made <= 6:\n",
        "    guess = int(input(\"Enter guess here \"))\n",
        "    guesses_made = guesses_made +1\n",
        "\n",
        "    if guess < number:\n",
        "      print(\"Too Low Try Again\")\n",
        "  \n",
        "    elif guess > number:\n",
        "      print(\"Too High, Try Again\")\n",
        "\n",
        "    elif guess == number:\n",
        "      print(\"you guessed it in\" + \" \" + str(guesses_made)+ \"attempts\")\n",
        "      break\n",
        "\n",
        "guess_number(randint(1,50))"
      ],
      "execution_count": null,
      "outputs": [
        {
          "output_type": "stream",
          "name": "stdout",
          "text": [
            "Guess the number within 6 attempts\n",
            "13\n"
          ]
        },
        {
          "output_type": "error",
          "ename": "KeyboardInterrupt",
          "evalue": "ignored",
          "traceback": [
            "\u001b[0;31m---------------------------------------------------------------------------\u001b[0m",
            "\u001b[0;31mKeyboardInterrupt\u001b[0m                         Traceback (most recent call last)",
            "\u001b[0;32m<ipython-input-143-0a2d20114292>\u001b[0m in \u001b[0;36m<module>\u001b[0;34m\u001b[0m\n\u001b[1;32m     22\u001b[0m       \u001b[0;32mbreak\u001b[0m\u001b[0;34m\u001b[0m\u001b[0;34m\u001b[0m\u001b[0m\n\u001b[1;32m     23\u001b[0m \u001b[0;34m\u001b[0m\u001b[0m\n\u001b[0;32m---> 24\u001b[0;31m \u001b[0mguess_number\u001b[0m\u001b[0;34m(\u001b[0m\u001b[0mrandint\u001b[0m\u001b[0;34m(\u001b[0m\u001b[0;36m1\u001b[0m\u001b[0;34m,\u001b[0m\u001b[0;36m50\u001b[0m\u001b[0;34m)\u001b[0m\u001b[0;34m)\u001b[0m\u001b[0;34m\u001b[0m\u001b[0;34m\u001b[0m\u001b[0m\n\u001b[0m",
            "\u001b[0;32m<ipython-input-143-0a2d20114292>\u001b[0m in \u001b[0;36mguess_number\u001b[0;34m(number)\u001b[0m\n\u001b[1;32m      9\u001b[0m   \u001b[0;31m#loop to continue until correct guess or 6 guesses made\u001b[0m\u001b[0;34m\u001b[0m\u001b[0;34m\u001b[0m\u001b[0;34m\u001b[0m\u001b[0m\n\u001b[1;32m     10\u001b[0m   \u001b[0;32mwhile\u001b[0m \u001b[0mguesses_made\u001b[0m \u001b[0;34m<=\u001b[0m \u001b[0;36m6\u001b[0m\u001b[0;34m:\u001b[0m\u001b[0;34m\u001b[0m\u001b[0;34m\u001b[0m\u001b[0m\n\u001b[0;32m---> 11\u001b[0;31m     \u001b[0mguess\u001b[0m \u001b[0;34m=\u001b[0m \u001b[0mint\u001b[0m\u001b[0;34m(\u001b[0m\u001b[0minput\u001b[0m\u001b[0;34m(\u001b[0m\u001b[0;34m\"Enter guess here \"\u001b[0m\u001b[0;34m)\u001b[0m\u001b[0;34m)\u001b[0m\u001b[0;34m\u001b[0m\u001b[0;34m\u001b[0m\u001b[0m\n\u001b[0m\u001b[1;32m     12\u001b[0m     \u001b[0mguesses_made\u001b[0m \u001b[0;34m=\u001b[0m \u001b[0mguesses_made\u001b[0m \u001b[0;34m+\u001b[0m\u001b[0;36m1\u001b[0m\u001b[0;34m\u001b[0m\u001b[0;34m\u001b[0m\u001b[0m\n\u001b[1;32m     13\u001b[0m \u001b[0;34m\u001b[0m\u001b[0m\n",
            "\u001b[0;32m/usr/local/lib/python3.7/dist-packages/ipykernel/kernelbase.py\u001b[0m in \u001b[0;36mraw_input\u001b[0;34m(self, prompt)\u001b[0m\n\u001b[1;32m    861\u001b[0m             \u001b[0mself\u001b[0m\u001b[0;34m.\u001b[0m\u001b[0m_parent_ident\u001b[0m\u001b[0;34m,\u001b[0m\u001b[0;34m\u001b[0m\u001b[0;34m\u001b[0m\u001b[0m\n\u001b[1;32m    862\u001b[0m             \u001b[0mself\u001b[0m\u001b[0;34m.\u001b[0m\u001b[0m_parent_header\u001b[0m\u001b[0;34m,\u001b[0m\u001b[0;34m\u001b[0m\u001b[0;34m\u001b[0m\u001b[0m\n\u001b[0;32m--> 863\u001b[0;31m             \u001b[0mpassword\u001b[0m\u001b[0;34m=\u001b[0m\u001b[0;32mFalse\u001b[0m\u001b[0;34m,\u001b[0m\u001b[0;34m\u001b[0m\u001b[0;34m\u001b[0m\u001b[0m\n\u001b[0m\u001b[1;32m    864\u001b[0m         )\n\u001b[1;32m    865\u001b[0m \u001b[0;34m\u001b[0m\u001b[0m\n",
            "\u001b[0;32m/usr/local/lib/python3.7/dist-packages/ipykernel/kernelbase.py\u001b[0m in \u001b[0;36m_input_request\u001b[0;34m(self, prompt, ident, parent, password)\u001b[0m\n\u001b[1;32m    902\u001b[0m             \u001b[0;32mexcept\u001b[0m \u001b[0mKeyboardInterrupt\u001b[0m\u001b[0;34m:\u001b[0m\u001b[0;34m\u001b[0m\u001b[0;34m\u001b[0m\u001b[0m\n\u001b[1;32m    903\u001b[0m                 \u001b[0;31m# re-raise KeyboardInterrupt, to truncate traceback\u001b[0m\u001b[0;34m\u001b[0m\u001b[0;34m\u001b[0m\u001b[0;34m\u001b[0m\u001b[0m\n\u001b[0;32m--> 904\u001b[0;31m                 \u001b[0;32mraise\u001b[0m \u001b[0mKeyboardInterrupt\u001b[0m\u001b[0;34m(\u001b[0m\u001b[0;34m\"Interrupted by user\"\u001b[0m\u001b[0;34m)\u001b[0m \u001b[0;32mfrom\u001b[0m \u001b[0;32mNone\u001b[0m\u001b[0;34m\u001b[0m\u001b[0;34m\u001b[0m\u001b[0m\n\u001b[0m\u001b[1;32m    905\u001b[0m             \u001b[0;32mexcept\u001b[0m \u001b[0mException\u001b[0m \u001b[0;32mas\u001b[0m \u001b[0me\u001b[0m\u001b[0;34m:\u001b[0m\u001b[0;34m\u001b[0m\u001b[0;34m\u001b[0m\u001b[0m\n\u001b[1;32m    906\u001b[0m                 \u001b[0mself\u001b[0m\u001b[0;34m.\u001b[0m\u001b[0mlog\u001b[0m\u001b[0;34m.\u001b[0m\u001b[0mwarning\u001b[0m\u001b[0;34m(\u001b[0m\u001b[0;34m\"Invalid Message:\"\u001b[0m\u001b[0;34m,\u001b[0m \u001b[0mexc_info\u001b[0m\u001b[0;34m=\u001b[0m\u001b[0;32mTrue\u001b[0m\u001b[0;34m)\u001b[0m\u001b[0;34m\u001b[0m\u001b[0;34m\u001b[0m\u001b[0m\n",
            "\u001b[0;31mKeyboardInterrupt\u001b[0m: Interrupted by user"
          ]
        }
      ]
    }
  ]
}