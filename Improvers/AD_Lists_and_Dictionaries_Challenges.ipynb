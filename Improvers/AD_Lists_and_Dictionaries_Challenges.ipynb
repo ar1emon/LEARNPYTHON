{
  "cells": [
    {
      "cell_type": "markdown",
      "metadata": {
        "id": "view-in-github",
        "colab_type": "text"
      },
      "source": [
        "<a href=\"https://colab.research.google.com/github/ar1emon/LEARNPYTHON/blob/main/Improvers/AD_Lists_and_Dictionaries_Challenges.ipynb\" target=\"_parent\"><img src=\"https://colab.research.google.com/assets/colab-badge.svg\" alt=\"Open In Colab\"/></a>"
      ]
    },
    {
      "cell_type": "markdown",
      "metadata": {
        "id": "nEJLJX3J9B2k"
      },
      "source": [
        "# Some challenges to help you become more confident with using Lists, Tuples and Dictionaries\n",
        "\n",
        "---\n",
        "\n"
      ]
    },
    {
      "cell_type": "markdown",
      "metadata": {
        "id": "JvV6htgh9Nc1"
      },
      "source": [
        "### Exercise 1 - extending a list\n",
        "\n",
        "There are three ways to extend a list in Python:  \n",
        "*  use `list_name.append(item)`, `list_name.insert(item)`\n",
        "*  concatenate two lists using the + operator (e.g. new_list = list1 + list2)\n",
        "*  use `list1_name.extend(list2_name)`\n",
        "\n",
        "The last method allows us to add all the `list2` items onto `list1` and for the new, extended list to now be `list1`.  `list2` will always be added to the end of `list1`.  \n",
        "\n",
        "If the objective is to add list2 before list1 then use `list2.extend(list1)`\n",
        "\n",
        "Write a function which will:  \n",
        "*  create a list of **years** containing the years 1960, 1970, 1980, 1990, 2000  \n",
        "*  print the list of years  \n",
        "*  calculate how long ago each year was and print the year and how long ago it was (e.g. 1990 was 30 years ago)  *(Hint:  use the datetime library to get the current year)*   \n",
        "*  create a second list, **years2** containing the years 2010 and 2020, extend `years` to include these later years\n",
        "*  create a third list, **years3** containing the years 1930, 1940 and 1950 and extend the list to include all the years between 1930 and 2020\n",
        "*  print the final list\n",
        "\n",
        "Expected output:  \n",
        "[1960, 1970, 1980, 1990]  \n",
        "1960 was 61 years ago  \n",
        "1970 was 51 years ago  \n",
        "1980 was 41 years ago  \n",
        "1990 was 31 years ago  \n",
        "2000 was 21 years ago  \n",
        "[1930, 1940, 1950, 1960, 1970, 1980, 1990, 2000, 2010, 2020] "
      ]
    },
    {
      "cell_type": "code",
      "execution_count": null,
      "metadata": {
        "colab": {
          "base_uri": "https://localhost:8080/"
        },
        "id": "QAyTVqoO8-08",
        "outputId": "3cfb4e9d-f674-4a37-b56a-fa236737b9a7"
      },
      "outputs": [
        {
          "name": "stdout",
          "output_type": "stream",
          "text": [
            "[1930, 1940, 1950, 1960, 1970, 1980, 1990, 2000, 2010, 2020]\n",
            "1930 was 92 years ago.\n",
            "1940 was 82 years ago.\n",
            "1950 was 72 years ago.\n",
            "1960 was 62 years ago.\n",
            "1970 was 52 years ago.\n",
            "1980 was 42 years ago.\n",
            "1990 was 32 years ago.\n",
            "2000 was 22 years ago.\n",
            "2010 was 12 years ago.\n",
            "2020 was 2 years ago.\n"
          ]
        }
      ],
      "source": [
        "from datetime import datetime, timedelta\n",
        "\n",
        "def extend_list():\n",
        "  date_today = datetime.today()\n",
        "  year = int(date_today.strftime(\"%Y\"))\n",
        "\n",
        "  years = [1960, 1970, 1980, 1990, 2000]\n",
        "  years2 = [2010, 2020]\n",
        "  years3 = [1930, 1940, 1950]\n",
        "\n",
        "  years.extend(years2)\n",
        "  years3.extend(years)\n",
        "  print(years3)\n",
        "  for y in years3:\n",
        "    num_years = year - y\n",
        "    print(y, \"was\", str(num_years), \"years ago.\")\n",
        "\n",
        "extend_list()"
      ]
    },
    {
      "cell_type": "markdown",
      "metadata": {
        "id": "S5iPicFzBzOW"
      },
      "source": [
        "---\n",
        "### Exercise 2 - creating a dictionary from a tuple and three lists\n",
        "\n",
        "Write a function which will create a list of dictionary items using the values in a tuple as the dictionary keys and the values in three corresponding lists as the dictionary values.\n",
        "\n",
        "*  loop through the status items in the tuple called task_status\n",
        "*  for each status, loop through the list with the same name (*Hint:  you can use eval(status) to access the list with the matching name  e.g. for task in eval(status)* )\n",
        "*  each time round this second loop, create a dictionary object with the  key:value pair {status : task}\n",
        "*  add each new dictionary to a list called **project_board** that was created as an empty list before the loops  \n",
        "*  print the project_board list\n",
        "\n",
        "Expected output:  \n",
        "\n",
        "[{'assigned': 'task1'}, {'assigned': 'task2'}, {'assigned': 'task3'}, {'inprogress': 'task4'}, {'inprogress': 'task5'}, {'inprogress': 'task6'}, {'completed': 'task7'}, {'completed': 'task8'}, {'completed': 'task9'}] \n",
        "\n"
      ]
    },
    {
      "cell_type": "code",
      "execution_count": null,
      "metadata": {
        "colab": {
          "base_uri": "https://localhost:8080/"
        },
        "id": "KXYOSHY-C7m4",
        "outputId": "9099ea21-c117-4090-8e6d-6922307d7504"
      },
      "outputs": [
        {
          "output_type": "stream",
          "name": "stdout",
          "text": [
            "{'assigned': 'task1'}\n",
            "{'assigned': 'task2'}\n",
            "{'assigned': 'task3'}\n",
            "{'inprogress': 'task4'}\n",
            "{'inprogress': 'task5'}\n",
            "{'inprogress': 'task6'}\n",
            "{'completed': 'task7'}\n",
            "{'completed': 'task8'}\n",
            "{'completed': 'task9'}\n",
            "{'completed': 'task10'}\n",
            "[{'assigned': 'task1'}, {'assigned': 'task2'}, {'assigned': 'task3'}, {'inprogress': 'task4'}, {'inprogress': 'task5'}, {'inprogress': 'task6'}, {'completed': 'task7'}, {'completed': 'task8'}, {'completed': 'task9'}, {'completed': 'task10'}]\n"
          ]
        }
      ],
      "source": [
        "#AS THESE EXCERCISES WERE LEARNING TOOLS FOR ME, I HAVE LEFT SOME OF THE COMMENTS IN FOR MY OWN PURPOSES\n",
        "def create_project_board():\n",
        "  task_status = (\"assigned\", \"inprogress\", \"completed\")\n",
        "  assigned = ['task1','task2','task3']\n",
        "  inprogress = ['task4','task5','task6']\n",
        "  completed = ['task7','task8','task9', 'task10']\n",
        "  #  add your code below here\n",
        "  \n",
        "  project_board = []\n",
        "  for status in task_status:\n",
        "    \n",
        "    for task in eval(status):\n",
        "      #print(status, task)\n",
        "      dictionary = {status : task}\n",
        "      print(dictionary)\n",
        "      project_board.append(dictionary)\n",
        "\n",
        "  print(project_board)\n",
        "  \n",
        "create_project_board()\n",
        "  \n"
      ]
    },
    {
      "cell_type": "markdown",
      "metadata": {
        "id": "M1BuTu9p19Ma"
      },
      "source": [
        "---\n",
        "### Exercise 3 - names and heights\n",
        "\n",
        "Write a function which will allow a user to enter the names and heights of a set of people and add each set of information as a record (dictionary) to a list. The function will stop collecting names and heights when the user enters \"STOP\" as the name.\n",
        "\n",
        "Then, the function will:  \n",
        "\n",
        "*   produce a list of names in order of the shortest person to the tallest\n",
        "*   calculate the name of the tallest person\n",
        "*   calculate the name of the shortest person\n",
        "*   calculate the average height\n",
        "*   calculate the name of the person who is closest to the average height\n",
        "\n",
        "\n",
        "\n",
        "\n"
      ]
    },
    {
      "cell_type": "code",
      "execution_count": null,
      "metadata": {
        "colab": {
          "base_uri": "https://localhost:8080/"
        },
        "id": "reuyww3e18uv",
        "outputId": "b66f3241-e47a-4c8f-ec4d-3808e57ea7d2"
      },
      "outputs": [
        {
          "output_type": "stream",
          "name": "stdout",
          "text": [
            "Name: mum\n",
            "Height(cm): 180\n",
            "Name: dad\n",
            "Height(cm): 200\n",
            "Name: baby\n",
            "Height(cm): 30\n",
            "Name: stop\n",
            "{'mum': 180, 'dad': 200, 'baby': 30}\n",
            "From shortest to tallest, your entries are:  [('baby', 30), ('mum', 180), ('dad', 200)]\n",
            "The tallest person is:  dad\n",
            "The shortest person is:  baby\n",
            "The average height is:  136 cm\n",
            "The person who is closest to the average height is:  mum\n"
          ]
        }
      ],
      "source": [
        "#AS THESE EXCERCISES WERE LEARNING TOOLS FOR ME, I HAVE LEFT SOME OF THE COMMENTS IN FOR MY OWN PURPOSES\n",
        "\n",
        "def names_heights():\n",
        "\n",
        "  d = {}\n",
        "  k = ()\n",
        "  while k != \"stop\":\n",
        "    k = input(\"Name: \")\n",
        "    if k != \"stop\":\n",
        "      v = int(input(\"Height(cm): \"))\n",
        "    d[k] = v\n",
        "  d.popitem()\n",
        "  print(d)\n",
        "\n",
        "  sorted_height = sorted(d.items(), key = lambda kv: kv[1])\n",
        "  print(\"From shortest to tallest, your entries are: \", sorted_height)\n",
        "\n",
        "  tallest = max(d, key=d.get)\n",
        "  print(\"The tallest person is: \", tallest)\n",
        "\n",
        "  shortest = min(d, key=d.get)\n",
        "  print(\"The shortest person is: \", shortest)\n",
        "\n",
        "\n",
        "  total_heights = 0\n",
        "  for x in d.values():\n",
        "    total_heights += int(x)\n",
        "  av_height = total_heights / len(d)\n",
        "  print(\"The average height is: \", int(av_height), \"cm\" )\n",
        "\n",
        "  average = int(av_height)\n",
        "  #print(average)\n",
        " \n",
        "  closest_value = min(d, key=lambda y:abs(float(d[y])-average))\n",
        "  print(\"The person who is closest to the average height is: \", closest_value)\n",
        "\n",
        "names_heights()"
      ]
    },
    {
      "cell_type": "code",
      "execution_count": null,
      "metadata": {
        "colab": {
          "base_uri": "https://localhost:8080/"
        },
        "id": "zDoDNS7vteJm",
        "outputId": "9674d052-802b-4868-f6c6-be5c9ed8af6e"
      },
      "outputs": [
        {
          "name": "stdout",
          "output_type": "stream",
          "text": [
            "Type first name and height in cm: patsy 040\n",
            "Type first name and height in cm: nanny 105\n",
            "Type first name and height in cm: izla 234\n",
            "Type first name and height in cm: rico 021\n",
            "{'patsy': '040', 'nanny': '105', 'izla': '234', 'rico': '021'}\n",
            "From shortest to tallest, your entries are:  [('rico', '021'), ('patsy', '040'), ('nanny', '105'), ('izla', '234')]\n",
            "The tallest person is:  izla\n",
            "The shortest person is:  rico\n",
            "The average height is:  100 cm\n",
            "The person who is closest to the average height is:  nanny\n"
          ]
        }
      ],
      "source": [
        "def names_heights():\n",
        "  #SAME EXERCISE AS ABOVE BUT USING A FIXED DECISION OF 4 ENTRIES, IN ONE INPUT BOX FOV KEY AND VALUE SPLIT BY SPACE\n",
        "  n = 4\n",
        "  d = dict(input(\"Type first name and height in cm: \").split() for _ in range(n))\n",
        "  print(d)\n",
        "\n",
        "  sorted_height = sorted(d.items(), key = lambda kv: kv[1])\n",
        "  print(\"From shortest to tallest, your entries are: \", sorted_height)\n",
        "\n",
        "  tallest = max(d, key=d.get)\n",
        "  print(\"The tallest person is: \", tallest)\n",
        "\n",
        "  shortest = min(d, key=d.get)\n",
        "  print(\"The shortest person is: \", shortest)\n",
        "\n",
        "  total_heights = 0\n",
        "  for x in d.values():\n",
        "    total_heights += int(x)\n",
        "  av_height = total_heights / len(d)\n",
        "  print(\"The average height is: \", int(av_height), \"cm\" )\n",
        "\n",
        "  average = int(av_height)\n",
        "  #print(average)\n",
        " \n",
        "  closest_value = min(d, key=lambda y:abs(float(d[y])-average))\n",
        "  print(\"The person who is closest to the average height is: \", closest_value)\n",
        "\n",
        "names_heights()"
      ]
    }
  ],
  "metadata": {
    "colab": {
      "collapsed_sections": [],
      "provenance": [],
      "include_colab_link": true
    },
    "kernelspec": {
      "display_name": "Python 3",
      "name": "python3"
    },
    "language_info": {
      "name": "python"
    }
  },
  "nbformat": 4,
  "nbformat_minor": 0
}