{
  "nbformat": 4,
  "nbformat_minor": 0,
  "metadata": {
    "colab": {
      "provenance": [],
      "collapsed_sections": [],
      "include_colab_link": true
    },
    "kernelspec": {
      "name": "python3",
      "display_name": "Python 3"
    },
    "language_info": {
      "name": "python"
    }
  },
  "cells": [
    {
      "cell_type": "markdown",
      "metadata": {
        "id": "view-in-github",
        "colab_type": "text"
      },
      "source": [
        "<a href=\"https://colab.research.google.com/github/ar1emon/LEARNPYTHON/blob/main/Improvers/AD_Worksheet_functions_datetime.ipynb\" target=\"_parent\"><img src=\"https://colab.research.google.com/assets/colab-badge.svg\" alt=\"Open In Colab\"/></a>"
      ]
    },
    {
      "cell_type": "markdown",
      "metadata": {
        "id": "7iQyKP-SQiw1"
      },
      "source": [
        "# User-defined functions using datetime library\n",
        "\n",
        "---\n"
      ]
    },
    {
      "cell_type": "markdown",
      "metadata": {
        "id": "Vi93h5I4QnKs"
      },
      "source": [
        "When working with dates and times, fairly common in data sets, we need to be able to extract certain bits of information.  \n",
        "\n",
        "In Python, as with other languages, dates and times are stored in a data structure that combines the two together and stores the information as a number of seconds since a start point (often 1st January 1900).  This is obviously a large number but every bit of information about a date can be extracted from it and used to give a wide range of information.  \n",
        "\n",
        "Have a go at the exercises below to use a selection of datetime functions and return a new bit of data from each, to be printed by the caller.\n",
        "\n",
        "Before you can use datetime functions you will need to import them. Import the datetime functions like this:\n",
        "\n",
        "`from datetime import datetime`  \n",
        "\n",
        "\n",
        "For more information about datetime functions visit [w3Schools-Python datetime](https://www.w3schools.com/python/python_datetime.asp) and [Python docs](https://docs.python.org/3/library/datetime.html)"
      ]
    },
    {
      "cell_type": "markdown",
      "metadata": {
        "id": "MIDLi7CNR034"
      },
      "source": [
        "---\n",
        "### Exercise 1 - print current date and time\n",
        "\n",
        "Write a function that will return the date and time now.  The caller will print it.  \n",
        "\n",
        "*Hint:  the format has been added for you, the other exercises will follow a similar format.   Always remember to import datetime from datetime as shown below*"
      ]
    },
    {
      "cell_type": "code",
      "metadata": {
        "id": "gS6GJdXbQfHp",
        "colab": {
          "base_uri": "https://localhost:8080/"
        },
        "outputId": "c8520b4c-a3a1-4630-de76-e0d99de1973f"
      },
      "source": [
        "from datetime import datetime\n",
        "\n",
        "def get_datetime_now():\n",
        "  now = datetime.now()\n",
        "  print(now)\n",
        "get_datetime_now()"
      ],
      "execution_count": 8,
      "outputs": [
        {
          "output_type": "stream",
          "name": "stdout",
          "text": [
            "2022-10-20 13:19:26.522950\n"
          ]
        }
      ]
    },
    {
      "cell_type": "markdown",
      "metadata": {
        "id": "Yy24sL0bUtpF"
      },
      "source": [
        "---\n",
        "Exercise 2 - print the current year\n",
        "\n",
        "Write a function that will return the current year.  The caller will print the year."
      ]
    },
    {
      "cell_type": "code",
      "metadata": {
        "id": "YqlQqPIqUtyr",
        "colab": {
          "base_uri": "https://localhost:8080/"
        },
        "outputId": "a0f4753f-aa57-4cd6-a024-dc149125a75e"
      },
      "source": [
        "from datetime import datetime\n",
        "def print_current_year():\n",
        "  current_year = date.today().year\n",
        "  print(current_year)\n",
        "print_current_year()"
      ],
      "execution_count": 9,
      "outputs": [
        {
          "output_type": "stream",
          "name": "stdout",
          "text": [
            "2022\n"
          ]
        }
      ]
    },
    {
      "cell_type": "markdown",
      "metadata": {
        "id": "FzSVCaJKV1O1"
      },
      "source": [
        "---\n",
        "### Exercise 3 - print the current day of the week\n",
        "\n",
        "Write a function that will return the current day of the week.  The caller will print it."
      ]
    },
    {
      "cell_type": "code",
      "metadata": {
        "id": "OP4ZIXBWV1Yj",
        "colab": {
          "base_uri": "https://localhost:8080/"
        },
        "outputId": "298d1790-57d4-4c86-e054-3b117aea6248"
      },
      "source": [
        "from datetime import datetime\n",
        "def current_wkdy():\n",
        "  return(datetime.today().strftime('%A'))\n",
        "\n",
        "print(current_wkdy())"
      ],
      "execution_count": 10,
      "outputs": [
        {
          "output_type": "stream",
          "name": "stdout",
          "text": [
            "Thursday\n"
          ]
        }
      ]
    },
    {
      "cell_type": "markdown",
      "metadata": {
        "id": "a8euCtdmWIDE"
      },
      "source": [
        "---\n",
        "### Exercise 4 - create a new date\n",
        "\n",
        "Write a function that will take 3 parameters, day, month, year (3 numbers that make a valid date) and will create, and return a new date.  The caller will print the date."
      ]
    },
    {
      "cell_type": "code",
      "metadata": {
        "id": "FbOFnTwnWILN",
        "colab": {
          "base_uri": "https://localhost:8080/"
        },
        "outputId": "d0cc8c70-ff55-4796-cd39-e805a8674213"
      },
      "source": [
        "from datetime import datetime\n",
        "def display_new_date():\n",
        "  new_date = datetime(2012, 8, 2)\n",
        "  return(new_date.strftime(\"%c\"))\n",
        "print(display_new_date())"
      ],
      "execution_count": 11,
      "outputs": [
        {
          "output_type": "stream",
          "name": "stdout",
          "text": [
            "Thu Aug  2 00:00:00 2012\n"
          ]
        }
      ]
    },
    {
      "cell_type": "markdown",
      "metadata": {
        "id": "f5SKVuE0WfcE"
      },
      "source": [
        "---\n",
        "### Exercise 5 - create a valid date\n",
        "\n",
        "Write a function that will take 3 parameters, day, month, year (3 numbers) and will:  \n",
        "*   check that the month is between 1 and 12  \n",
        "*   check that the day is valid for the month (e.g. if the month is 2, then the day must be between 1 and 28 (don't worry about leap years for the moment)  \n",
        "*   if the date is not valid, print an error message and return None (which the caller will print)  \n",
        "*   if the date is valid, store it in a new variable, return the variable and the caller will print it."
      ]
    },
    {
      "cell_type": "code",
      "metadata": {
        "id": "gclt-f9-XfdG",
        "colab": {
          "base_uri": "https://localhost:8080/"
        },
        "outputId": "caaa4133-a58e-4b6d-bbb7-2c7123b6bd1c"
      },
      "source": [
        "from datetime import datetime\n",
        "def display_valid_date(day, month, year):\n",
        "  if month > 0 and month < 13:\n",
        "    if day > 0:\n",
        "      if month in [1,3,5,7,8,10,12] and day < 32:\n",
        "        return date(year, month, day)\n",
        "      elif month in [4,6,11] and day < 31:\n",
        "        return date(year, month, day)\n",
        "      elif month in [2] and day < 29:\n",
        "        return date(year, month, day)\n",
        "      else:\n",
        "        return \"Date is not in range\"\n",
        "  else:\n",
        "    return \"Date is not in range\"\n",
        "\n",
        "print(display_valid_date(28,2,2222).strftime(\"%x\"))\n",
        "print(display_valid_date(2,6,2014))\n",
        "print(display_valid_date(2,81,2012))"
      ],
      "execution_count": 13,
      "outputs": [
        {
          "output_type": "stream",
          "name": "stdout",
          "text": [
            "02/28/22\n",
            "2014-06-02\n",
            "Date is not in range\n"
          ]
        }
      ]
    },
    {
      "cell_type": "markdown",
      "metadata": {
        "id": "js7fy2HWXfm2"
      },
      "source": [
        "---\n",
        "### Exercise 6 - is it a leap year?\n",
        "\n",
        "Write a function that will take a date as a parameter (you will need to create the date variable before calling the function) and will determine if it is a leap year, returning True or False.\n",
        "\n",
        "*Hint:  a leap year is a year that is divisible by 4 but the centuries (1900, 2000, etc are only leap years if they are divisible by 400)*"
      ]
    },
    {
      "cell_type": "code",
      "metadata": {
        "id": "KY1jtf3lX_ps",
        "colab": {
          "base_uri": "https://localhost:8080/"
        },
        "outputId": "eba0f59f-785c-4a98-ee3c-f329db23490d"
      },
      "source": [
        "from datetime import datetime\n",
        "def is_leap_year(date):\n",
        "  # add your code below here\n",
        "  date = datetime(1600,3,2)\n",
        "  if (date.year % 4 == 0 and date.year % 100 != 0) or (date.year % 400 == 0):\n",
        "    print(\"This was a leap year\")\n",
        "    return True\n",
        "    \n",
        "  else:\n",
        "    print(\"This wasnt a leap year\")\n",
        "    return False\n",
        "\n",
        "\n",
        "is_leap_year(date)\n"
      ],
      "execution_count": 48,
      "outputs": [
        {
          "output_type": "stream",
          "name": "stdout",
          "text": [
            "This was a leap year\n"
          ]
        },
        {
          "output_type": "execute_result",
          "data": {
            "text/plain": [
              "True"
            ]
          },
          "metadata": {},
          "execution_count": 48
        }
      ]
    },
    {
      "cell_type": "markdown",
      "metadata": {
        "id": "9BuRDi08YAO0"
      },
      "source": [
        "---\n",
        "### Exercise 7 - display parts of date/time\n",
        "\n",
        "Write a function that will take a date and print from it the following:  \n",
        "*  given date and time  \n",
        "*  year (in full) \n",
        "*  month (as a number) \n",
        "*  month name \n",
        "*  week number of the year  \n",
        "*  weekday of the week (as a number)  \n",
        "*  day of year  \n",
        "*  day of the month  \n",
        "*  day of week (as a name)  \n",
        "\n",
        "*Hint:  see w3Schools for [strftime reference](https://www.w3schools.com/python/python_datetime.asp)*\n",
        "\n"
      ]
    },
    {
      "cell_type": "code",
      "metadata": {
        "id": "zl-37Ez9ahym",
        "colab": {
          "base_uri": "https://localhost:8080/"
        },
        "outputId": "3d772544-4673-45b0-cfce-01bc9f699fd5"
      },
      "source": [
        "from datetime import datetime\n",
        "\n",
        "def dispDateStats():\n",
        "\n",
        "  date = datetime(1982,6,22)\n",
        "\n",
        "  print(\"\\n given date and time: \",date,\"\\n year (in full): \",date.strftime(\"%Y\"),\"\\n month (as a number): \",date.strftime(\"%m\"),\"\\n month name: \",date.strftime(\"%B\"),\"\\n week number of the year: \",date.strftime(\"%U\"),\"\\n weekday of the week (as a number): \",date.strftime(\"%w\"),\"\\n day of year: \",date.strftime(\"%j\"),\"\\n day of week (as a name): \",date.strftime(\"%A\"))\n",
        "\n",
        "dispDateStats()"
      ],
      "execution_count": 68,
      "outputs": [
        {
          "output_type": "stream",
          "name": "stdout",
          "text": [
            "\n",
            " given date and time:  1982-06-22 00:00:00 \n",
            " year (in full):  1982 \n",
            " month (as a number):  06 \n",
            " month name:  June \n",
            " week number of the year:  25 \n",
            " weekday of the week (as a number):  2 \n",
            " day of year:  173 \n",
            " day of week (as a name):  Tuesday\n"
          ]
        }
      ]
    },
    {
      "cell_type": "markdown",
      "metadata": {
        "id": "_rpTIoSDaiBj"
      },
      "source": [
        "---\n",
        "### Exercise 8 - next 6 days\n",
        "\n",
        "Write a function that will take a date and generate the dates of the following 6 days.  It should print each of the 6 days in the form:  \n",
        "\n",
        "DAY OF THE WEEK, MONTH NAME, FULL YEAR\n",
        "\n",
        "Hint:  to generate the days, use the function datetime.timedelta(), there is a good example of its use [here](https://www.geeksforgeeks.org/python-datetime-timedelta-function/)  "
      ]
    },
    {
      "cell_type": "code",
      "metadata": {
        "id": "1d-oXqLLb0vX",
        "colab": {
          "base_uri": "https://localhost:8080/"
        },
        "outputId": "b43ca420-3a13-4514-b65f-f89fb9db40ae"
      },
      "source": [
        "#I HAVE LEFT THE COMMENTS IN HERE AS I AM LEARNING STILL AND THIS WAS MY THOUGHT PROCESS. I HAVE ALSO USED 2 DIFFERENT WAYS TO ENTER THE DATE, WHICH ID LIKE TO KEEP AS REFERENCE.\n",
        "\n",
        "from datetime import datetime, timedelta\n",
        "def countDays():\n",
        "  #current date(COMMENTED OUT)\n",
        "  #       curr_date = datetime.today()\n",
        "  #enter current date via code\n",
        "  curr_date = datetime(1600,3,2)\n",
        "  # printing initial_date\n",
        "  print (\"initial_date: \", str(curr_date.strftime(\"%A %d %B %Y\")))\n",
        "\n",
        "  # Calculating future dates\n",
        "  for d in range(1,7):\n",
        "    next_day = curr_date + timedelta(days=d)\n",
        "    print(str(next_day.strftime(\"%A %d %B %Y\")))\n",
        "\n",
        "countDays()"
      ],
      "execution_count": 33,
      "outputs": [
        {
          "output_type": "stream",
          "name": "stdout",
          "text": [
            "initial_date:  Thursday 02 March 1600\n",
            "Friday 03 March 1600\n",
            "Saturday 04 March 1600\n",
            "Sunday 05 March 1600\n",
            "Monday 06 March 1600\n",
            "Tuesday 07 March 1600\n",
            "Wednesday 08 March 1600\n"
          ]
        }
      ]
    },
    {
      "cell_type": "markdown",
      "metadata": {
        "id": "22Rhwx2Sb1Ey"
      },
      "source": [
        "---\n",
        "### Optional extra practice\n",
        "\n",
        "There are some similar and some more challenging exercises [here](https://www.w3resource.com/python-exercises/date-time-exercise/) if you would like to practice more. The site has its own editor."
      ]
    }
  ]
}